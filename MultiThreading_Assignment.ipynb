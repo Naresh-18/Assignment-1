{
 "cells": [
  {
   "cell_type": "code",
   "execution_count": null,
   "id": "56af9b88-6cae-452b-b546-8a941892c7e0",
   "metadata": {},
   "outputs": [],
   "source": [
    "''' Question 1 '''"
   ]
  },
  {
   "cell_type": "code",
   "execution_count": null,
   "id": "7812d275-c7e9-4991-8f77-3a0bdb57f90d",
   "metadata": {},
   "outputs": [],
   "source": [
    "Multithreading in Python:\n",
    "\n",
    "* Multithreading is a concurrent execution technique where multiple threads run within the same process, allowing for parallel execution of tasks. \n",
    "  Each thread represents a separate flow of control and can execute independently.\n",
    "* In Python, multithreading is used to perform multiple tasks concurrently, especially for I/O-bound operations (e.g., file I/O, network requests) where waiting for one task to complete can be avoided by running other tasks in parallel.\n",
    "* The primary module used for handling threads in Python is the threading module."
   ]
  },
  {
   "cell_type": "code",
   "execution_count": null,
   "id": "52451378-4f7a-47a3-8c95-b996d886b59d",
   "metadata": {},
   "outputs": [],
   "source": [
    "''' Qestion 2 '''"
   ]
  },
  {
   "cell_type": "code",
   "execution_count": null,
   "id": "7ab1fe10-ee95-4424-871c-d7bcf2e1b5cb",
   "metadata": {},
   "outputs": [],
   "source": [
    "Threading Module in Python (threading):\n",
    "\n",
    "The threading module in Python provides a high-level way to create and manage threads.\n",
    "Some important functions and methods from the threading module include:\n",
    " * activeCount(): Returns the number of Thread objects currently alive.\n",
    " * currentThread(): Returns the current Thread object corresponding to the caller's thread.\n",
    " * enumerate(): Returns a list of all Thread objects currently alive."
   ]
  },
  {
   "cell_type": "code",
   "execution_count": null,
   "id": "810dc67d-50d9-4bec-852a-cd1789a5cfcb",
   "metadata": {},
   "outputs": [],
   "source": [
    "''' Question 3 '''"
   ]
  },
  {
   "cell_type": "code",
   "execution_count": 2,
   "id": "32564fbf-2031-4396-bcae-0a4ec2639b15",
   "metadata": {},
   "outputs": [
    {
     "name": "stdout",
     "output_type": "stream",
     "text": [
      "Number 1\n",
      "Number 2\n",
      "Number 3\n",
      "Number 4\n",
      "Number 5\n",
      "Is the thread alive? False\n",
      "Is the thread alive after joining? False\n"
     ]
    }
   ],
   "source": [
    "''' Explanation of Thread Methods:\n",
    "\n",
    "run(): This method defines the code to be executed in a thread. You can subclass the threading.\n",
    "Thread class and override the run() method to specify the thread's behavior.\n",
    "\n",
    "start(): This method starts the thread's execution. It invokes the run() method of the thread object in a separate thread of control. \n",
    "The start() method should be called to initiate the thread's execution.\n",
    "\n",
    "join(): This method blocks the calling thread until the thread on which it is called completes its execution.\n",
    "It is often used to wait for a thread to finish before proceeding further.\n",
    "\n",
    "isAlive(): This method returns True if the thread is currently executing or has not yet started, and False if the thread has finished executing or has been terminated.'''\n",
    "\n",
    "import threading\n",
    "\n",
    "def print_numbers():\n",
    "    for i in range(1, 6):\n",
    "        print(f\"Number {i}\")\n",
    "\n",
    "\n",
    "my_thread = threading.Thread(target=print_numbers)\n",
    "\n",
    "my_thread.start()\n",
    "\n",
    "print(\"Is the thread alive?\", my_thread.is_alive())\n",
    "\n",
    "\n",
    "my_thread.join()\n",
    "\n",
    "print(\"Is the thread alive after joining?\", my_thread.is_alive())\n"
   ]
  },
  {
   "cell_type": "code",
   "execution_count": null,
   "id": "6934d0af-08ce-4df7-99c8-99c6472399a1",
   "metadata": {},
   "outputs": [],
   "source": [
    "''' Question 4 '''"
   ]
  },
  {
   "cell_type": "code",
   "execution_count": 3,
   "id": "68952d30-b267-44a5-a9a8-a552b5e4cbee",
   "metadata": {},
   "outputs": [
    {
     "name": "stdout",
     "output_type": "stream",
     "text": [
      "Square of 1: 1\n",
      "Square of 2: 4\n",
      "Square of 3: 9\n",
      "Square of 4: 16\n",
      "Square of 5: 25\n",
      "Cube of 1: 1\n",
      "Cube of 2: 8\n",
      "Cube of 3: 27\n",
      "Cube of 4: 64\n",
      "Cube of 5: 125\n",
      "Both threads have finished.\n"
     ]
    }
   ],
   "source": [
    "import threading\n",
    "\n",
    "def print_squares():\n",
    "    for i in range(1, 6):\n",
    "        print(f\"Square of {i}: {i ** 2}\")\n",
    "\n",
    "def print_cubes():\n",
    "    for i in range(1, 6):\n",
    "        print(f\"Cube of {i}: {i ** 3}\")\n",
    "\n",
    "\n",
    "thread1 = threading.Thread(target=print_squares)\n",
    "thread2 = threading.Thread(target=print_cubes)\n",
    "\n",
    "thread1.start()\n",
    "thread2.start()\n",
    "\n",
    "thread1.join()\n",
    "thread2.join()\n",
    "\n",
    "print(\"Both threads have finished.\")"
   ]
  },
  {
   "cell_type": "code",
   "execution_count": null,
   "id": "94155b8c-aa72-4234-a7a1-bc1e7452e464",
   "metadata": {},
   "outputs": [],
   "source": [
    "''' Question 5 '''"
   ]
  },
  {
   "cell_type": "code",
   "execution_count": null,
   "id": "bfe4af32-7c88-4b21-a0e6-6376ab9ef222",
   "metadata": {},
   "outputs": [],
   "source": [
    "Advantages of Multithreading:\n",
    "\n",
    " * Concurrency: Multithreading allows multiple tasks to run concurrently, making efficient use of CPU resources and potentially speeding up the execution of programs that perform parallelizable tasks.\n",
    "\n",
    " * Responsiveness: Multithreading can be used to create responsive user interfaces, ensuring that the application remains interactive while performing background tasks.\n",
    "\n",
    " * Efficient Resource Sharing: Threads within the same process share memory space, which can lead to efficient communication and data sharing between threads.\n",
    "\n",
    "Disadvantages of Multithreading:\n",
    "\n",
    " * Complexity: Multithreaded programs can be complex and difficult to debug due to issues like race conditions and deadlocks (explained in question 6).\n",
    "\n",
    " * Resource Competition: Threads in the same process can compete for resources like CPU time and memory, potentially leading to resource contention and performance degradation.\n",
    "\n",
    " * GIL (Global Interpreter Lock): In CPython (the most commonly used Python implementation), the Global Interpreter Lock restricts true parallel execution of threads. \n",
    "   This means that CPU-bound tasks may not see significant performance improvements with multithreading in Python."
   ]
  },
  {
   "cell_type": "code",
   "execution_count": null,
   "id": "9bb47779-7602-4d4b-b9d8-0f5dfb90606f",
   "metadata": {},
   "outputs": [],
   "source": [
    "''' Question 6 '''"
   ]
  },
  {
   "cell_type": "code",
   "execution_count": null,
   "id": "d85e1277-e1f5-47cc-a1ba-465abf56b925",
   "metadata": {},
   "outputs": [],
   "source": [
    "Deadlocks and Race Conditions:\n",
    "\n",
    "  Deadlock: A deadlock occurs when two or more threads are unable to proceed because each is waiting for the other to release a resource. It results in a standstill, where none of the threads can continue their execution.\n",
    "\n",
    "  Race Condition: A race condition occurs when multiple threads access shared data concurrently, and the final outcome depends on the timing and order of execution. \n",
    "                  This can lead to unexpected and erroneous behavior when two or more threads modify shared data simultaneously."
   ]
  }
 ],
 "metadata": {
  "kernelspec": {
   "display_name": "Python 3 (ipykernel)",
   "language": "python",
   "name": "python3"
  },
  "language_info": {
   "codemirror_mode": {
    "name": "ipython",
    "version": 3
   },
   "file_extension": ".py",
   "mimetype": "text/x-python",
   "name": "python",
   "nbconvert_exporter": "python",
   "pygments_lexer": "ipython3",
   "version": "3.10.8"
  }
 },
 "nbformat": 4,
 "nbformat_minor": 5
}
