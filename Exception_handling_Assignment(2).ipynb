{
 "cells": [
  {
   "cell_type": "code",
   "execution_count": null,
   "id": "270edd8a-b20d-4a79-af25-39022601e638",
   "metadata": {},
   "outputs": [],
   "source": [
    "''' Question 1 '''"
   ]
  },
  {
   "cell_type": "code",
   "execution_count": null,
   "id": "1bb246f9-35be-4fc5-9a06-a5506405aa30",
   "metadata": {},
   "outputs": [],
   "source": [
    "Using the Exception class as the base class when creating custom exceptions in Python is essential for several important reasons:\n",
    "\n",
    "* Consistency and Standardization: The Exception class is the base class for all exceptions in Python. By inheriting from it, custom exceptions adhere to the established conventions and structure of exception handling in the language. \n",
    "This consistency is crucial for maintaining a uniform and understandable approach to handling exceptions across different parts of your code and among different developers.\n",
    "\n",
    "* Built-in Exception Features: When you inherit from the Exception class, your custom exception inherits a set of features that are available to all exceptions, such as the ability to include an error message and traceback information. \n",
    "These features make it easier to communicate the nature of the exception and diagnose issues when they occur.\n",
    "\n",
    "* Clarity and Documentation: By using the Exception class as the base, your custom exceptions purpose becomes clear to other developers who encounter it. \n",
    "It provides a standardized and recognizable way of conveying that your class represents an exception, making your code more readable and maintainable.\n",
    "\n",
    "* Interoperability: Python built-in exception handling mechanisms and libraries are designed to work with exceptions derived from the Exception class. \n",
    "When you create custom exceptions using this base class, your exceptions seamlessly integrate with Python exception handling infrastructure and third-party libraries, ensuring compatibility and smooth error handling.\n",
    "\n",
    "* Extensibility: Inheriting from the Exception class allows you to add custom attributes or methods to your custom exception, enhancing its functionality while retaining compatibility with the standard exception hierarchy."
   ]
  },
  {
   "cell_type": "code",
   "execution_count": null,
   "id": "8f06c504-6b7c-4cec-93a5-aff2b7c1376f",
   "metadata": {},
   "outputs": [],
   "source": [
    "''' Question 2 '''"
   ]
  },
  {
   "cell_type": "code",
   "execution_count": 2,
   "id": "df2e7538-8afe-4a56-8ab8-4e42199dc457",
   "metadata": {},
   "outputs": [
    {
     "name": "stdout",
     "output_type": "stream",
     "text": [
      "Python Exception Hierarchy\n",
      "==========================\n",
      "Python Library Documentation: class BaseException in module builtins\n",
      "\n",
      "class BaseException(object)\n",
      " |  Common base class for all exceptions\n",
      " |  \n",
      " |  Built-in subclasses:\n",
      " |      Exception\n",
      " |      GeneratorExit\n",
      " |      KeyboardInterrupt\n",
      " |      SystemExit\n",
      " |  \n",
      " |  Methods defined here:\n",
      " |  \n",
      " |  __delattr__(self, name, /)\n",
      " |      Implement delattr(self, name).\n",
      " |  \n",
      " |  __getattribute__(self, name, /)\n",
      " |      Return getattr(self, name).\n",
      " |  \n",
      " |  __init__(self, /, *args, **kwargs)\n",
      " |      Initialize self.  See help(type(self)) for accurate signature.\n",
      " |  \n",
      " |  __reduce__(...)\n",
      " |      Helper for pickle.\n",
      " |  \n",
      " |  __repr__(self, /)\n",
      " |      Return repr(self).\n",
      " |  \n",
      " |  __setattr__(self, name, value, /)\n",
      " |      Implement setattr(self, name, value).\n",
      " |  \n",
      " |  __setstate__(...)\n",
      " |  \n",
      " |  __str__(self, /)\n",
      " |      Return str(self).\n",
      " |  \n",
      " |  with_traceback(...)\n",
      " |      Exception.with_traceback(tb) --\n",
      " |      set self.__traceback__ to tb and return self.\n",
      " |  \n",
      " |  ----------------------------------------------------------------------\n",
      " |  Static methods defined here:\n",
      " |  \n",
      " |  __new__(*args, **kwargs) from builtins.type\n",
      " |      Create and return a new object.  See help(type) for accurate signature.\n",
      " |  \n",
      " |  ----------------------------------------------------------------------\n",
      " |  Data descriptors defined here:\n",
      " |  \n",
      " |  __cause__\n",
      " |      exception cause\n",
      " |  \n",
      " |  __context__\n",
      " |      exception context\n",
      " |  \n",
      " |  __dict__\n",
      " |  \n",
      " |  __suppress_context__\n",
      " |  \n",
      " |  __traceback__\n",
      " |  \n",
      " |  args\n",
      "\n"
     ]
    }
   ],
   "source": [
    "import pydoc\n",
    "\n",
    "\n",
    "exception_hierarchy = pydoc.render_doc(BaseException, renderer=pydoc.plaintext)\n",
    "\n",
    "custom_title = \"Python Exception Hierarchy\"\n",
    "\n",
    "print(custom_title)\n",
    "print(\"=\" * len(custom_title))\n",
    "print(exception_hierarchy)\n",
    "\n"
   ]
  },
  {
   "cell_type": "code",
   "execution_count": null,
   "id": "4a7c33b3-22ac-422f-84fb-7cb59f60adbb",
   "metadata": {},
   "outputs": [],
   "source": [
    "''' Question 3 '''"
   ]
  },
  {
   "cell_type": "code",
   "execution_count": 3,
   "id": "6aa7bdd5-e409-47c9-a078-54734b97d5ca",
   "metadata": {},
   "outputs": [
    {
     "name": "stdout",
     "output_type": "stream",
     "text": [
      "Error: division by zero\n"
     ]
    }
   ],
   "source": [
    "''' The ArithmeticError class is a base class for exceptions related to arithmetic operations. It is a part of the exception hierarchy, and several specific exceptions are derived from it. \n",
    "Two commonly encountered exceptions derived from ArithmeticError are: '''\n",
    "\n",
    "''' 1. ZeroDivisionError:  This exception is raised when you attempt to divide a number by zero, which is mathematically undefined.'''\n",
    "\n",
    "try:\n",
    "    result = 10 / 0  \n",
    "except ZeroDivisionError as e:\n",
    "    print(\"Error:\", e)\n",
    "\n",
    "''' 2. OverflowError: This exception occurs when the result of an arithmetic operation exceeds the representational limits of the data type.'''\n",
    "\n",
    "import sys\n",
    "try:\n",
    "    max_int = sys.maxsize  \n",
    "    overflowed_result = max_int + 1  \n",
    "except OverflowError as e:\n",
    "    print(\"Error:\", e)\n"
   ]
  },
  {
   "cell_type": "code",
   "execution_count": null,
   "id": "cb31a948-3a1d-467e-8fd7-e271f1d36074",
   "metadata": {},
   "outputs": [],
   "source": [
    "''' Question 4 '''"
   ]
  },
  {
   "cell_type": "code",
   "execution_count": 5,
   "id": "6c5294b7-8ce8-4e5d-87ce-b9d65759f9fd",
   "metadata": {},
   "outputs": [
    {
     "name": "stdout",
     "output_type": "stream",
     "text": [
      "Error: 'x'\n",
      "Error: list index out of range\n"
     ]
    }
   ],
   "source": [
    "''' The LookupError class in Python is a base class for exceptions related to lookups in sequences or mappings, such as lists, tuples, dictionaries, and other iterable data structures. \n",
    "It serves as a parent class for exceptions that occur when trying to access elements that are not present or when using an invalid index or key. Two commonly encountered exceptions derived from LookupError are KeyError and IndexError.'''\n",
    "\n",
    "''' 1. KeyError:\n",
    "   - This exception is raised when you try to access a dictionary key that does not exist.\n",
    "   Example:'''\n",
    "my_dict = {'a': 1, 'b': 2, 'c': 3}\n",
    "try:\n",
    "    value = my_dict['x']  \n",
    "except KeyError as e:\n",
    "    print(\"Error:\", e)\n",
    "   \n",
    "''' 2. IndexError:\n",
    "   - This exception is raised when you try to access a sequence (e.g., a list or tuple) with an index that is out of range or invalid.\n",
    "   Example:''' \n",
    "\n",
    "my_list = [1, 2, 3, 4, 5]\n",
    "try:\n",
    "    value = my_list[10]  \n",
    "except IndexError as e:\n",
    "    print(\"Error:\", e)"
   ]
  },
  {
   "cell_type": "code",
   "execution_count": null,
   "id": "2e6772de-9b90-4cc0-8e4c-a8286f8df108",
   "metadata": {},
   "outputs": [],
   "source": [
    "''' Question 5'''"
   ]
  },
  {
   "cell_type": "code",
   "execution_count": 6,
   "id": "c8853a24-02b1-42eb-9cc8-e856f5d99f3b",
   "metadata": {},
   "outputs": [
    {
     "name": "stdout",
     "output_type": "stream",
     "text": [
      "Import Error: No module named 'non_existent_module'\n",
      "Module Not Found Error: No module named 'non_existent_module'\n"
     ]
    }
   ],
   "source": [
    "''' ImportError and ModuleNotFoundError are both exceptions in Python that occur when there are issues with importing modules, but they have some differences in terms of when they are raised and their usage:'''\n",
    "\n",
    "''' 1. ImportError:\n",
    "   - ImportError is a broad exception raised when there is a problem with importing a module that is not more specifically covered by other import-related exceptions.\n",
    "   - It can be raised for various reasons, such as when the module you are trying to import doesn't exist, there are circular import dependencies, or there are syntax errors in the module being imported.\n",
    "   Example:'''\n",
    "try:\n",
    "    import non_existent_module  # Attempt to import a module that doesn't exist\n",
    "except ImportError as e:\n",
    "    print(\"Import Error:\", e)\n",
    "\n",
    "''' 2. ModuleNotFoundError:\n",
    "   - ModuleNotFoundError is a more specific exception introduced in Python 3.6. It is raised when the Python interpreter cannot locate the module you are trying to import.\n",
    "   - It is a subclass of `ImportError`, so it covers the same kinds of issues but provides a more descriptive error message explicitly stating that the module was not found.\n",
    "   Example:'''\n",
    "try:\n",
    "    import non_existent_module  # Attempt to import a module that doesn't exist\n",
    "except ModuleNotFoundError as e:\n",
    "    print(\"Module Not Found Error:\", e)"
   ]
  },
  {
   "cell_type": "code",
   "execution_count": null,
   "id": "cee4f1a0-910f-40f7-b6ce-52323d2be1f1",
   "metadata": {},
   "outputs": [],
   "source": [
    "''' Question 6 '''"
   ]
  },
  {
   "cell_type": "code",
   "execution_count": null,
   "id": "dc0820db-ecb3-4815-a7ac-14974655aaa2",
   "metadata": {},
   "outputs": [],
   "source": [
    "''' Exception handling is an important aspect of writing robust and maintainable Python code. Here are some best practices for exception handling in Python:'''\n",
    "\n",
    "'''1. Use Specific Exceptions:\n",
    "   - Catch specific exceptions rather than using a generic `Exception` catch-all. This helps you to handle different errors appropriately and provides better error messages.'''\n",
    "try:\n",
    "       # Code that may raise a specific exception\n",
    "except SpecificException as e:\n",
    "       # Handle the specific exception\n",
    "\n",
    "''' 2. Avoid Empty except Blocks:\n",
    "   - Avoid using empty except blocks (except:) as they can silently catch and hide errors. Only catch exceptions that you intend to handle.'''\n",
    "try:\n",
    "       # Code that may raise an exception\n",
    "except SpecificException as e:\n",
    "       # Handle the specific exception\n",
    "\n",
    "''' 3. Use finally for Cleanup:\n",
    "   - Use the finally block to perform cleanup operations, such as closing files or releasing resources, regardless of whether an exception was raised or not.'''\n",
    "try:\n",
    "       # Code that may raise an exception\n",
    "except SpecificException as e:\n",
    "       # Handle the specific exception\n",
    "finally:\n",
    "       # Cleanup code\n",
    "\n",
    "''' 4. Avoid Bare except in Top-Level Code:\n",
    "   - Avoid using a bare `except` in top-level code, as it can make debugging difficult and hide unexpected errors. Catch specific exceptions or log unexpected ones.'''\n",
    "try:\n",
    "       # Code that may raise an exception\n",
    "except SpecificException as e:\n",
    "       # Handle the specific exception\n",
    "except Exception as e:\n",
    "       # Log unexpected exceptions\n",
    "\n",
    "5. **Log Exceptions:**\n",
    "   - Use proper logging to record exceptions and their details. This helps in debugging and understanding the cause of errors.\n",
    "   \n",
    "   ```python\n",
    "   import logging\n",
    "\n",
    "   try:\n",
    "       # Code that may raise an exception\n",
    "   except SpecificException as e:\n",
    "       # Handle the specific exception\n",
    "       logging.error(\"SpecificException occurred: %s\", e)\n",
    "   ```\n",
    "\n",
    "6. **Reraise Exceptions Sparingly:**\n",
    "   - Be cautious when reraising exceptions. It's generally better to handle exceptions where they occur rather than re-raising them higher up in the call stack.\n",
    "   \n",
    "   ```python\n",
    "   try:\n",
    "       # Code that may raise an exception\n",
    "   except SpecificException as e:\n",
    "       # Handle the specific exception\n",
    "       raise  # Re-raise the same exception\n",
    "   ```\n",
    "\n",
    "iable Python code. By following these best practices, you can make your code more robust and easier to maintain while handling errors gracefully."
   ]
  }
 ],
 "metadata": {
  "kernelspec": {
   "display_name": "Python 3 (ipykernel)",
   "language": "python",
   "name": "python3"
  },
  "language_info": {
   "codemirror_mode": {
    "name": "ipython",
    "version": 3
   },
   "file_extension": ".py",
   "mimetype": "text/x-python",
   "name": "python",
   "nbconvert_exporter": "python",
   "pygments_lexer": "ipython3",
   "version": "3.10.8"
  }
 },
 "nbformat": 4,
 "nbformat_minor": 5
}
