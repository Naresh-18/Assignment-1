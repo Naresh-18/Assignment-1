{
 "cells": [
  {
   "cell_type": "code",
   "execution_count": null,
   "id": "696a27d1-65c2-4c36-8099-22440c133c7f",
   "metadata": {},
   "outputs": [],
   "source": [
    "''' Question 1 '''"
   ]
  },
  {
   "cell_type": "code",
   "execution_count": 3,
   "id": "29c6a7df-a3df-47cd-8534-4927b7f37e33",
   "metadata": {},
   "outputs": [
    {
     "name": "stdout",
     "output_type": "stream",
     "text": [
      "Toyota Camry 2022\n",
      "Honda Civic 2021\n",
      "Engine started.\n",
      "Engine started.\n",
      "Engine stopped.\n",
      "Engine stopped.\n"
     ]
    }
   ],
   "source": [
    "''' Class: A class is a blueprint or a template that defines the structure and behavior of objects. \n",
    "It acts as a blueprint for creating objects with a set of attributes (data members) and methods (functions) that describe the behavior of those objects. \n",
    "In simple terms, a class defines what an object of that class will look like and what it can do.'''\n",
    "''' Object: An object is an instance of a class. It is a concrete, tangible entity created based on the class blueprint. \n",
    "Each object created from a class has its own unique set of attributes and can perform the methods defined in the class. \n",
    "Objects allow us to work with specific instances of a class, each representing a distinct entity.'''\n",
    "\n",
    "class Car:\n",
    "    def __init__(self, make, model, year):\n",
    "        self.make = make\n",
    "        self.model = model\n",
    "        self.year = year\n",
    "        self.is_running = False\n",
    "\n",
    "    def start_engine(self):\n",
    "        if not self.is_running:\n",
    "            self.is_running = True\n",
    "            print(\"Engine started.\")\n",
    "        else:\n",
    "            print(\"Engine is already running.\")\n",
    "\n",
    "    def stop_engine(self):\n",
    "        if self.is_running:\n",
    "            self.is_running = False\n",
    "            print(\"Engine stopped.\")\n",
    "        else:\n",
    "            print(\"Engine is already stopped.\")\n",
    "\n",
    "car1 = Car(\"Toyota\", \"Camry\", 2022)\n",
    "car2 = Car(\"Honda\", \"Civic\", 2021)\n",
    "\n",
    "\n",
    "print(car1.make, car1.model, car1.year)  \n",
    "print(car2.make, car2.model, car2.year)  \n",
    "car1.start_engine()  \n",
    "car2.start_engine()  \n",
    "\n",
    "car1.stop_engine()   \n",
    "car2.stop_engine()  "
   ]
  },
  {
   "cell_type": "code",
   "execution_count": null,
   "id": "dfdc015e-70a6-461e-b978-0b155eef1be2",
   "metadata": {},
   "outputs": [],
   "source": [
    "''' Question 2 '''"
   ]
  },
  {
   "cell_type": "code",
   "execution_count": null,
   "id": "fa862cf6-c9c1-4997-be6c-1edcdd5e8d02",
   "metadata": {},
   "outputs": [],
   "source": [
    "The four pillars of Oject Oriented Programming(OOP) are :\n",
    "1. Encapsulation: Encapsulation is the concept of bundling data (attributes) and methods (functions) that operate on that data within a single unit, called a class. \n",
    "It allows us to hide the internal implementation details of an object from the outside world and only expose necessary functionalities through well-defined interfaces. \n",
    "Encapsulation helps in achieving data hiding and abstraction, promoting a more secure and maintainable codebase.\n",
    "\n",
    "2.Abstraction: Abstraction focuses on providing a simplified and high-level view of an object or system while hiding the unnecessary complexities. \n",
    "It allows us to define the essential characteristics and behaviors of an object without getting into the implementation details. \n",
    "Abstraction enables the creation of abstract classes and interfaces, which act as templates for other classes to implement and provide a common set of methods to be used across multiple objects.\n",
    "\n",
    "3.Inheritance: Inheritance is the process by which one class (called the subclass or derived class) can inherit properties and behaviors from another class (called the superclass or base class). \n",
    "It promotes the reusability of code by allowing a class to extend and specialize the functionalities of another class. \n",
    "The subclass inherits all the attributes and methods of the superclass, and it can also override or extend the inherited methods to suit its specific requirements.\n",
    "\n",
    "4.Polymorphism:Polymorphism allows objects of different classes to be treated as objects of a common superclass. \n",
    "It enables a single interface to represent multiple forms or behaviors. \n",
    "Polymorphism can be achieved through method overloading (having multiple methods with the same name but different parameters) and method overriding (providing a specific implementation of a method in the subclass that is already defined in the superclass). \n",
    "This concept allows for flexibility and dynamic behavior during runtime, making the code more adaptable to changes and easier to maintain."
   ]
  },
  {
   "cell_type": "code",
   "execution_count": null,
   "id": "ae6e99cd-44aa-4a25-8cba-df03b21534af",
   "metadata": {},
   "outputs": [],
   "source": [
    "''' Question 3 '''"
   ]
  },
  {
   "cell_type": "code",
   "execution_count": 4,
   "id": "58abcb82-b22a-4422-bbb9-7cc96816a6c8",
   "metadata": {},
   "outputs": [
    {
     "name": "stdout",
     "output_type": "stream",
     "text": [
      "Hi, my name is Naresh, and I am 18 years old.\n",
      "Hi, my name is Sneha, and I am 19 years old.\n"
     ]
    }
   ],
   "source": [
    "The __init__() function is a special method used as a constructor for a class. \n",
    "It is automatically called when an object is created from a class and is used to initialize the attributes of the object. \n",
    "The name __init__ stands for \"initialize,\" and it allows us to set up the initial state of the object by providing values to its attributes.\n",
    "\n",
    "class Person:\n",
    "    def __init__(self, name, age):\n",
    "        self.name = name\n",
    "        self.age = age\n",
    "\n",
    "    def introduce(self):\n",
    "        print(f\"Hi, my name is {self.name}, and I am {self.age} years old.\")\n",
    "        \n",
    "person1 = Person(\"Naresh\", 18)\n",
    "person2 = Person(\"Sneha\", 19)\n",
    "\n",
    "person1.introduce() \n",
    "person2.introduce()  "
   ]
  },
  {
   "cell_type": "code",
   "execution_count": null,
   "id": "90d28f58-87c6-4e05-b4dc-d3124d00c50c",
   "metadata": {},
   "outputs": [],
   "source": [
    "''' Question 4 '''"
   ]
  },
  {
   "cell_type": "code",
   "execution_count": null,
   "id": "37375758-5219-4a9e-ae94-0d0c7a712155",
   "metadata": {},
   "outputs": [],
   "source": [
    "Self is a special parameter used in instance methods of a class to refer to the instance of the class itself.\n",
    "When a method is called on an object, Python automatically passes the reference to that object as the first argument to the method.\n",
    "By convention, this first parameter is named self, but you can choose any valid variable name.\n",
    "However, it is highly recommended to stick to the convention of using self to improve code readability and make it easier for other developers to understand your code."
   ]
  },
  {
   "cell_type": "code",
   "execution_count": null,
   "id": "c17dd4a3-769d-45e1-837e-cd56035be5c7",
   "metadata": {},
   "outputs": [],
   "source": [
    "''' Question 5 '''"
   ]
  },
  {
   "cell_type": "code",
   "execution_count": 6,
   "id": "e576795d-4500-4c61-aba7-886f15b4b889",
   "metadata": {},
   "outputs": [
    {
     "ename": "SyntaxError",
     "evalue": "invalid syntax (2192768286.py, line 1)",
     "output_type": "error",
     "traceback": [
      "\u001b[0;36m  Cell \u001b[0;32mIn[6], line 1\u001b[0;36m\u001b[0m\n\u001b[0;31m    Inheritance: Inheritance is the process by which one class (called the subclass or derived class) can inherit properties and behaviors from another class (called the superclass or base class).\u001b[0m\n\u001b[0m                                    ^\u001b[0m\n\u001b[0;31mSyntaxError\u001b[0m\u001b[0;31m:\u001b[0m invalid syntax\n"
     ]
    }
   ],
   "source": [
    "\"Inheritance: Inheritance is the process by which one class (called the subclass or derived class) can inherit properties and behaviors from another class (called the superclass or base class). \n",
    "It promotes the reusability of code by allowing a class to extend and specialize the functionalities of another class. \n",
    "The subclass inherits all the attributes and methods of the superclass, and it can also override or extend the inherited methods to suit its specific requirements.\n",
    "\n",
    "class Animal:\n",
    "    def __init__(self, species):\n",
    "        self.species = species\n",
    "\n",
    "    def make_sound(self):\n",
    "        pass\n",
    "\n",
    "class Dog(Animal):\n",
    "    def __init__(self, name, breed):\n",
    "        super().__init__(\"Dog\")\n",
    "        self.name = name\n",
    "        self.breed = breed\n",
    "\n",
    "    def make_sound(self):\n",
    "        return \"Woof!\"\n",
    "\n",
    "\n",
    "dog = Dog(\"Buddy\", \"Golden Retriever\")\n",
    "print(dog.species) \n",
    "print(dog.name)     \n",
    "print(dog.breed)    \n",
    "print(dog.make_sound())  "
   ]
  },
  {
   "cell_type": "code",
   "execution_count": null,
   "id": "bf7236b5-964b-41a3-a677-e430cb17a22e",
   "metadata": {},
   "outputs": [],
   "source": []
  }
 ],
 "metadata": {
  "kernelspec": {
   "display_name": "Python 3 (ipykernel)",
   "language": "python",
   "name": "python3"
  },
  "language_info": {
   "codemirror_mode": {
    "name": "ipython",
    "version": 3
   },
   "file_extension": ".py",
   "mimetype": "text/x-python",
   "name": "python",
   "nbconvert_exporter": "python",
   "pygments_lexer": "ipython3",
   "version": "3.10.8"
  }
 },
 "nbformat": 4,
 "nbformat_minor": 5
}
