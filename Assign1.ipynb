{
 "cells": [
  {
   "cell_type": "code",
   "execution_count": 24,
   "id": "35bfb1c2-5f41-4ec1-9f55-0af184ce748b",
   "metadata": {},
   "outputs": [
    {
     "name": "stdin",
     "output_type": "stream",
     "text": [
      "Enter any character: Raj\n"
     ]
    },
    {
     "name": "stdout",
     "output_type": "stream",
     "text": [
      "Raj\n",
      "[18, 7, 45, 12.24, True, (4+7j), 'Naresh']\n",
      "45.09\n",
      "(1, 'Raj', [1, 4, 5])\n"
     ]
    }
   ],
   "source": [
    "s=input('Enter any character:')\n",
    "l=[18,7,45,12.24,True,4+7j,\"Naresh\"] #Lists are mutable\n",
    "f=45.09\n",
    "t=(1,\"Raj\",[1,4,5]) #tuple's are immutable\n",
    "print(s)\n",
    "print(l)\n",
    "print(f)\n",
    "print(t)"
   ]
  },
  {
   "cell_type": "code",
   "execution_count": 13,
   "id": "c8613577-a72c-4fe7-9266-b80709db086a",
   "metadata": {},
   "outputs": [
    {
     "name": "stdout",
     "output_type": "stream",
     "text": [
      "<class 'str'>\n",
      "<class 'str'>\n",
      "<class 'list'>\n",
      "<class 'int'>\n"
     ]
    }
   ],
   "source": [
    "var1=''\n",
    "var2='[DS,ML,Python]'\n",
    "var3=['DS','ML','Python']\n",
    "var4=1\n",
    "print(type(var1))\n",
    "print(type(var2))\n",
    "print(type(var3))\n",
    "print(type(var4))"
   ]
  },
  {
   "cell_type": "code",
   "execution_count": 23,
   "id": "9b65ed6d-a070-4b9f-a473-4ed26a221be5",
   "metadata": {},
   "outputs": [
    {
     "name": "stdout",
     "output_type": "stream",
     "text": [
      "2.0\n",
      "2\n",
      "0\n",
      "100000\n"
     ]
    }
   ],
   "source": [
    "# /-used when we want an deciaml type output..\n",
    "# //-It round figure the output...if the outout is 2.4 it means to-2\n",
    "# %-returns the remainder of the input numbers which we had divided\n",
    "# **-It comes under assignment operator and called as exponent operator\n",
    "a=10\n",
    "b=5\n",
    "c=a/b\n",
    "d=a//b\n",
    "e=a%b\n",
    "f=a**b\n",
    "print(c)\n",
    "print(d)\n",
    "print(e)\n",
    "print(f)"
   ]
  },
  {
   "cell_type": "code",
   "execution_count": 27,
   "id": "8c4940c6-9787-4c5e-bd1a-734394a22061",
   "metadata": {},
   "outputs": [
    {
     "name": "stdout",
     "output_type": "stream",
     "text": [
      "2 <class 'int'>\n",
      "7.8 <class 'float'>\n",
      "50 <class 'int'>\n",
      "True <class 'bool'>\n",
      "eren <class 'str'>\n",
      "(8+12j) <class 'complex'>\n",
      "42 <class 'int'>\n",
      "56 <class 'int'>\n",
      "B <class 'str'>\n",
      "(1, 5, 4) <class 'tuple'>\n"
     ]
    }
   ],
   "source": [
    "l=[2,7.8,50,True,'eren',8+12j,42,56,'B',(1,5,4)]\n",
    "for i in l:\n",
    "    print(i,type(i))"
   ]
  },
  {
   "cell_type": "code",
   "execution_count": 29,
   "id": "f09b94ee-7379-4417-9b5e-704629f9de08",
   "metadata": {},
   "outputs": [
    {
     "name": "stdin",
     "output_type": "stream",
     "text": [
      "Enter the value of a: 24\n",
      "Enter the value of b: 6\n"
     ]
    },
    {
     "name": "stdout",
     "output_type": "stream",
     "text": [
      "A is divisible by B.It can be divided 1 times\n"
     ]
    }
   ],
   "source": [
    "a=int(input(\"Enter the value of a:\"))\n",
    "b=int(input(\"Enter the value of b:\"))\n",
    "c=0\n",
    "while(a%b)==0:\n",
    "    a=a/b\n",
    "    c+=1\n",
    "if c>0:\n",
    "    print('A is divisible by B.It can be divided',c,'times')\n",
    "else:\n",
    "    print('A is not divisible by B')"
   ]
  },
  {
   "cell_type": "code",
   "execution_count": 5,
   "id": "ac34a534-984f-476d-b2f6-7ef175c36bc3",
   "metadata": {},
   "outputs": [
    {
     "name": "stdin",
     "output_type": "stream",
     "text": [
      "Enter the length: 25\n",
      "Enter a value: 78\n",
      "Enter a value: 45\n",
      "Enter a value: 12\n",
      "Enter a value: 144\n",
      "Enter a value: 102\n",
      "Enter a value: 98\n",
      "Enter a value: 26\n",
      "Enter a value: 32\n",
      "Enter a value: 31\n",
      "Enter a value: 63\n",
      "Enter a value: 68\n",
      "Enter a value: 88\n",
      "Enter a value: 11\n",
      "Enter a value: 10\n",
      "Enter a value: 7\n",
      "Enter a value: 49\n",
      "Enter a value: 80\n",
      "Enter a value: 132\n",
      "Enter a value: 56\n",
      "Enter a value: 21\n",
      "Enter a value: 79\n",
      "Enter a value: 39\n",
      "Enter a value: 19\n",
      "Enter a value: 20\n",
      "Enter a value: 18\n"
     ]
    },
    {
     "name": "stdout",
     "output_type": "stream",
     "text": [
      "[78, 45, 12, 144, 102, 98, 26, 32, 31, 63, 68, 88, 11, 10, 7, 49, 80, 132, 56, 21, 79, 39, 19, 20, 18]\n",
      "78 is divisible by 3\n",
      "45 is divisible by 3\n",
      "12 is divisible by 3\n",
      "144 is divisible by 3\n",
      "102 is divisible by 3\n",
      "98 is not divisible by 3\n",
      "26 is not divisible by 3\n",
      "32 is not divisible by 3\n",
      "31 is not divisible by 3\n",
      "63 is divisible by 3\n",
      "68 is not divisible by 3\n",
      "88 is not divisible by 3\n",
      "11 is not divisible by 3\n",
      "10 is not divisible by 3\n",
      "7 is not divisible by 3\n",
      "49 is not divisible by 3\n",
      "80 is not divisible by 3\n",
      "132 is divisible by 3\n",
      "56 is not divisible by 3\n",
      "21 is divisible by 3\n",
      "79 is not divisible by 3\n",
      "39 is divisible by 3\n",
      "19 is not divisible by 3\n",
      "20 is not divisible by 3\n",
      "18 is divisible by 3\n"
     ]
    }
   ],
   "source": [
    "l=[]\n",
    "n=int(input(\"Enter the length:\"))\n",
    "for i in range(0,n):\n",
    "    s=int(input(\"Enter a value:\"))\n",
    "    l.append(s)\n",
    "print(l)\n",
    "temp=l\n",
    "for i in temp:\n",
    "    if i%3==0:\n",
    "        print(i,\"is divisible by 3\")\n",
    "    else:\n",
    "        print(i,\"is not divisible by 3\")"
   ]
  },
  {
   "cell_type": "code",
   "execution_count": 7,
   "id": "0b2efbda-da4c-4ff4-9560-74f8ef595daa",
   "metadata": {},
   "outputs": [
    {
     "name": "stdout",
     "output_type": "stream",
     "text": [
      "[21, 18, 7, 17, 'Naresh', 8.95]\n"
     ]
    }
   ],
   "source": [
    "# An object that allows yiu to change its values without changings its identity is called mutable objects.\n",
    "l=[21,18,7,45,\"Naresh\",8.95]\n",
    "# with thw help of indexing we can change the values\n",
    "l[3]=17\n",
    "print(l)"
   ]
  },
  {
   "cell_type": "code",
   "execution_count": 8,
   "id": "754654d1-f3df-4f34-820a-0addaa1c34c4",
   "metadata": {},
   "outputs": [
    {
     "ename": "TypeError",
     "evalue": "'tuple' object does not support item assignment",
     "output_type": "error",
     "traceback": [
      "\u001b[0;31m---------------------------------------------------------------------------\u001b[0m",
      "\u001b[0;31mTypeError\u001b[0m                                 Traceback (most recent call last)",
      "Cell \u001b[0;32mIn[8], line 3\u001b[0m\n\u001b[1;32m      1\u001b[0m \u001b[38;5;66;03m# An object that does'nt allows to change its state is called immutable objects.\u001b[39;00m\n\u001b[1;32m      2\u001b[0m t\u001b[38;5;241m=\u001b[39m(\u001b[38;5;241m18\u001b[39m,\u001b[38;5;241m17\u001b[39m,[\u001b[38;5;241m1\u001b[39m,\u001b[38;5;241m2\u001b[39m,\u001b[38;5;241m3\u001b[39m],\u001b[38;5;124m\"\u001b[39m\u001b[38;5;124mNaresh\u001b[39m\u001b[38;5;124m\"\u001b[39m)\n\u001b[0;32m----> 3\u001b[0m \u001b[43mt\u001b[49m\u001b[43m[\u001b[49m\u001b[38;5;241;43m1\u001b[39;49m\u001b[43m]\u001b[49m\u001b[38;5;241m=\u001b[39m\u001b[38;5;241m7\u001b[39m\n\u001b[1;32m      4\u001b[0m \u001b[38;5;28mprint\u001b[39m(t)\n",
      "\u001b[0;31mTypeError\u001b[0m: 'tuple' object does not support item assignment"
     ]
    }
   ],
   "source": [
    "# An object that does'nt allows to change its state is called immutable objects.\n",
    "t=(18,17,[1,2,3],\"Naresh\")\n",
    "t[1]=7\n",
    "print(t)"
   ]
  }
 ],
 "metadata": {
  "kernelspec": {
   "display_name": "Python 3 (ipykernel)",
   "language": "python",
   "name": "python3"
  },
  "language_info": {
   "codemirror_mode": {
    "name": "ipython",
    "version": 3
   },
   "file_extension": ".py",
   "mimetype": "text/x-python",
   "name": "python",
   "nbconvert_exporter": "python",
   "pygments_lexer": "ipython3",
   "version": "3.10.8"
  }
 },
 "nbformat": 4,
 "nbformat_minor": 5
}
