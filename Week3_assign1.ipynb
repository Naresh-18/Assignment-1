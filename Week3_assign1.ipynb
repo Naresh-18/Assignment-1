{
 "cells": [
  {
   "cell_type": "code",
   "execution_count": 4,
   "id": "67203a94-a2fd-450c-b541-1cfca41b6b17",
   "metadata": {},
   "outputs": [
    {
     "data": {
      "text/plain": [
       "[1, 3, 5, 7, 9, 11, 13, 15, 17, 19, 21, 23]"
      ]
     },
     "execution_count": 4,
     "metadata": {},
     "output_type": "execute_result"
    }
   ],
   "source": [
    "''' def key word is used to create an function '''\n",
    "def lst_odd(n):\n",
    "    l1=[]\n",
    "    for i in range(n):\n",
    "        if i%2!=0:\n",
    "            l1.append(i)    \n",
    "    return l1\n",
    "lst_odd(25)"
   ]
  },
  {
   "cell_type": "code",
   "execution_count": 5,
   "id": "462e0fc2-5d52-4fef-969a-6447cc417fef",
   "metadata": {},
   "outputs": [
    {
     "data": {
      "text/plain": [
       "29.45"
      ]
     },
     "execution_count": 5,
     "metadata": {},
     "output_type": "execute_result"
    }
   ],
   "source": [
    "''' The *args and **kwargs are special syntax in python used to pass a variable number of arguments to a function.\n",
    "These are commonly used when a number of arguments that a function needs to carry is unknown '''\n",
    "# The *args parameter allows us to accept any number of positional arguments i.e., example :-\n",
    "def sum_no(*args):\n",
    "    total=0\n",
    "    for i in args:\n",
    "        total += i\n",
    "    return total\n",
    "sum_no(1,4,6,18.45)"
   ]
  },
  {
   "cell_type": "code",
   "execution_count": 7,
   "id": "88523c48-b35b-4933-a923-ae9eec6b5844",
   "metadata": {},
   "outputs": [
    {
     "name": "stdout",
     "output_type": "stream",
     "text": [
      "name: Naresh\n",
      "age: 18\n",
      "country: INDIA\n"
     ]
    }
   ],
   "source": [
    "# The **Kwargs parameter allows us to accept any number of Keyword arguments i.e., example :-\n",
    "def info(**kwargs):\n",
    "    for key, value in kwargs.items():\n",
    "        print(f\"{key}: {value}\")\n",
    "info(name=\"Naresh\", age=18, country=\"INDIA\")"
   ]
  },
  {
   "cell_type": "code",
   "execution_count": 10,
   "id": "0a43d01b-07f7-4735-b9b3-3e68bed08dd0",
   "metadata": {},
   "outputs": [
    {
     "name": "stdout",
     "output_type": "stream",
     "text": [
      "2\n",
      "4\n",
      "6\n",
      "8\n",
      "10\n"
     ]
    }
   ],
   "source": [
    "''' In python iterator is an object in python that allows you to traverse through it sequentially.To create iterator in python we must use the method iter().\n",
    "you can use the next() method. Each call to next() returns the next element from the iterator.\n",
    "When there are no more elements to iterate over, it raises a StopIteration exception. '''\n",
    "my_list=[2,4,6,8,10,12,14,16,18,20]\n",
    "i=iter(my_list)\n",
    "for s in range(5):\n",
    "    j=next(i)\n",
    "    print(j)"
   ]
  },
  {
   "cell_type": "code",
   "execution_count": 11,
   "id": "c41489d6-5daa-4859-b00a-0950fb983ad9",
   "metadata": {},
   "outputs": [
    {
     "name": "stdout",
     "output_type": "stream",
     "text": [
      "0\n",
      "1\n",
      "1\n",
      "2\n",
      "3\n",
      "5\n",
      "8\n",
      "13\n",
      "21\n",
      "34\n"
     ]
    }
   ],
   "source": [
    "''' In Python, a generator function is a special type of function that generates an iterator object. \n",
    "The main advantage of using a generator function is that it allows you to generate a sequence of values without storing them all in memory at once. \n",
    "It uses the yield keyword instead of return to return a value '''\n",
    "# The yield keyword is used in a generator function to define points at which the function should yield its current value.\n",
    "def fibonacci_generator():\n",
    "    a, b = 0, 1\n",
    "    while True:\n",
    "        yield a\n",
    "        a, b = b, a + b\n",
    "fib_gen = fibonacci_generator()\n",
    "for _ in range(10):\n",
    "    fibonacci_number = next(fib_gen)\n",
    "    print(fibonacci_number)"
   ]
  },
  {
   "cell_type": "code",
   "execution_count": 2,
   "id": "0500ee75-a061-41ea-b8d5-d08f6c1508e7",
   "metadata": {},
   "outputs": [
    {
     "name": "stdout",
     "output_type": "stream",
     "text": [
      "2\n",
      "3\n",
      "5\n",
      "7\n",
      "11\n",
      "13\n",
      "17\n",
      "19\n",
      "23\n",
      "29\n",
      "31\n",
      "37\n",
      "41\n",
      "43\n",
      "47\n",
      "53\n",
      "59\n",
      "61\n",
      "67\n",
      "71\n"
     ]
    }
   ],
   "source": [
    "def prime_generator():\n",
    "    primes = []\n",
    "    num = 2\n",
    "    while num < 1000:\n",
    "        is_prime = True\n",
    "        for i in primes:\n",
    "            if i * i > num:\n",
    "                break\n",
    "            if num % i == 0:\n",
    "                is_prime = False\n",
    "                break\n",
    "        if is_prime:\n",
    "            primes.append(num)\n",
    "            yield num\n",
    "        num += 1\n",
    "prime_gen = prime_generator()\n",
    "for j in range(20):\n",
    "    prime = next(prime_gen)\n",
    "    print(prime)"
   ]
  },
  {
   "cell_type": "code",
   "execution_count": 5,
   "id": "941c8557-3b32-44ea-ac28-fa0be64152be",
   "metadata": {},
   "outputs": [
    {
     "name": "stdout",
     "output_type": "stream",
     "text": [
      "0\n",
      "1\n",
      "1\n",
      "2\n",
      "3\n",
      "5\n",
      "8\n",
      "13\n",
      "21\n",
      "34\n"
     ]
    }
   ],
   "source": [
    "def fib_gen():\n",
    "    a,b=0,1\n",
    "    while True:\n",
    "        yield a\n",
    "        a,b=b,a+b\n",
    "fib=fib_gen()\n",
    "for i in range(10):\n",
    "    fib_num=next(fib)\n",
    "    print(fib_num)"
   ]
  },
  {
   "cell_type": "code",
   "execution_count": 12,
   "id": "be847322-eb18-4647-bc23-9f5edc882c3b",
   "metadata": {},
   "outputs": [
    {
     "name": "stdout",
     "output_type": "stream",
     "text": [
      "['p', 'w', 's', 'k', 'i', 'l', 'l', 's']\n"
     ]
    }
   ],
   "source": [
    "s='pwskills'\n",
    "l=[]\n",
    "r=iter(s)\n",
    "for i in r:\n",
    "    l.append(i)\n",
    "print(l)"
   ]
  },
  {
   "cell_type": "code",
   "execution_count": 18,
   "id": "bd94f97c-e86a-4244-9fa4-1d2a1b9b5554",
   "metadata": {},
   "outputs": [
    {
     "name": "stdin",
     "output_type": "stream",
     "text": [
      "Enter a value: 1221\n"
     ]
    },
    {
     "name": "stdout",
     "output_type": "stream",
     "text": [
      "The given value i.e., 1221 is a palindrome\n"
     ]
    }
   ],
   "source": [
    "n=int(input(\"Enter a value:\"))\n",
    "t=n\n",
    "sum=0\n",
    "while n>0:\n",
    "    d=n%10\n",
    "    sum=sum*10+d\n",
    "    n=n//10\n",
    "if(t==sum):\n",
    "    print(\"The given value i.e.,\",sum,\"is a palindrome\")\n",
    "else:\n",
    "    print(\"The given value i.e.,\",sum,\"is not a palindrome\")"
   ]
  },
  {
   "cell_type": "code",
   "execution_count": 19,
   "id": "17ac6f27-87c6-462f-a4d5-b0044e9c1802",
   "metadata": {},
   "outputs": [
    {
     "name": "stdout",
     "output_type": "stream",
     "text": [
      "[1, 3, 5, 7, 9, 11, 13, 15, 17, 19, 21, 23, 25, 27, 29, 31, 33, 35, 37, 39, 41, 43, 45, 47, 49, 51, 53, 55, 57, 59, 61, 63, 65, 67, 69, 71, 73, 75, 77, 79, 81, 83, 85, 87, 89, 91, 93, 95, 97, 99]\n"
     ]
    }
   ],
   "source": [
    "l=[]\n",
    "n=1\n",
    "for i in range(100):\n",
    "    if n%2!=0:\n",
    "        l.append(n)\n",
    "    n+=1\n",
    "print(l)"
   ]
  }
 ],
 "metadata": {
  "kernelspec": {
   "display_name": "Python 3 (ipykernel)",
   "language": "python",
   "name": "python3"
  },
  "language_info": {
   "codemirror_mode": {
    "name": "ipython",
    "version": 3
   },
   "file_extension": ".py",
   "mimetype": "text/x-python",
   "name": "python",
   "nbconvert_exporter": "python",
   "pygments_lexer": "ipython3",
   "version": "3.10.8"
  }
 },
 "nbformat": 4,
 "nbformat_minor": 5
}
