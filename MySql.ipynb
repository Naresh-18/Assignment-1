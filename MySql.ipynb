{
 "cells": [
  {
   "cell_type": "code",
   "execution_count": null,
   "id": "64ad904f-9600-4a19-8052-7116ee2803d8",
   "metadata": {},
   "outputs": [],
   "source": [
    "''' Question 1 '''"
   ]
  },
  {
   "cell_type": "code",
   "execution_count": null,
   "id": "cdc5ff9a-9175-45dd-9608-eec0c0fd96c0",
   "metadata": {},
   "outputs": [],
   "source": [
    "Database:\n",
    "A database is a structured collection of data organized in a way that allows efficient storage, retrieval, and manipulation of data. \n",
    "Databases are used to store and manage large volumes of information, making it easier to perform tasks like data analysis, reporting, and data-driven decision-making.\n",
    "\n",
    "SQL (Structured Query Language) Databases:\n",
    "\n",
    "  * SQL databases are relational databases that use structured query language (SQL) for defining and manipulating data.\n",
    "  * They are based on a fixed schema with tables, rows, and columns.\n",
    "  * SQL databases are well-suited for structured and tabular data with well-defined relationships.\n",
    "  * Examples of SQL databases include MySQL, PostgreSQL, Oracle, and Microsoft SQL Server.\n",
    "    \n",
    "NoSQL (Not Only SQL) Databases:\n",
    "\n",
    "  * NoSQL databases are non-relational databases designed to handle a variety of data types, including unstructured and semi-structured data.\n",
    "  * They do not rely on a fixed schema and can store data in various formats like JSON, XML, or key-value pairs.\n",
    "  * NoSQL databases are suitable for handling large amounts of data, making them popular for big data and real-time applications.\n",
    "  * Examples of NoSQL databases include MongoDB, Cassandra, Redis, and Elasticsearch."
   ]
  },
  {
   "cell_type": "code",
   "execution_count": null,
   "id": "d689d3d8-c305-4abd-90b0-4274360f3520",
   "metadata": {},
   "outputs": [],
   "source": [
    "''' Question 2 '''"
   ]
  },
  {
   "cell_type": "code",
   "execution_count": 1,
   "id": "9fc16861-6f18-44bd-ad6e-d7d40e9dddcb",
   "metadata": {},
   "outputs": [
    {
     "ename": "SyntaxError",
     "evalue": "invalid syntax (1390599211.py, line 7)",
     "output_type": "error",
     "traceback": [
      "\u001b[0;36m  Cell \u001b[0;32mIn[1], line 7\u001b[0;36m\u001b[0m\n\u001b[0;31m    CREATE TABLE employees (\u001b[0m\n\u001b[0m           ^\u001b[0m\n\u001b[0;31mSyntaxError\u001b[0m\u001b[0;31m:\u001b[0m invalid syntax\n"
     ]
    }
   ],
   "source": [
    "'''DDL (Data Definition Language):\n",
    " DDL is a subset of SQL used for defining and managing database structures. \n",
    " DDL statements are used to create, modify, and delete database objects like tables, indexes, and constraints.\n",
    " \n",
    " \n",
    "* CREATE: Used to create a new database object, such as a table. Example:'''\n",
    "CREATE TABLE employees (\n",
    "    emp_id INT PRIMARY KEY,\n",
    "    emp_name VARCHAR(50),\n",
    "    emp_salary DECIMAL(10, 2)\n",
    ");\n",
    "\n",
    "''' * DROP: Used to delete an existing database object. Example: '''\n",
    "DROP TABLE employees;\n",
    "\n",
    "''' ALTER: Used to modify the structure of an existing database object. Example: '''\n",
    "\n",
    "ALTER TABLE employees\n",
    "ADD emp_department VARCHAR(50);\n",
    "\n",
    "''' * TRUNCATE: Used to remove all data from a table but retains the table structure. Example: '''\n",
    "\n",
    "TRUNCATE TABLE employees;"
   ]
  },
  {
   "cell_type": "code",
   "execution_count": null,
   "id": "532a5268-2b01-49f4-8a41-eb7e4d9eebbc",
   "metadata": {},
   "outputs": [],
   "source": [
    "''' Question 3 '''"
   ]
  },
  {
   "cell_type": "code",
   "execution_count": null,
   "id": "ac0eef5b-e573-40de-a02a-ab00206dd068",
   "metadata": {},
   "outputs": [],
   "source": [
    "'''DML (Data Manipulation Language):\n",
    "DML is a subset of SQL used for manipulating data stored in the database.\n",
    "\n",
    "INSERT: Used to add new rows of data into a table. Example:'''\n",
    "\n",
    "INSERT INTO employees (emp_id, emp_name, emp_salary)\n",
    "VALUES (1, 'John Doe', 50000);\n",
    "\n",
    "''' UPDATE: Used to modify existing data in a table. Example:'''\n",
    "\n",
    "UPDATE employees\n",
    "SET emp_salary = 55000\n",
    "WHERE emp_id = 1;\n",
    "\n",
    "''' DELETE: Used to remove data from a table. Example:'''\n",
    "\n",
    "DELETE FROM employees\n",
    "WHERE emp_id = 1;"
   ]
  },
  {
   "cell_type": "code",
   "execution_count": null,
   "id": "d7e459d9-6d97-441e-a48e-a21a96471fc2",
   "metadata": {},
   "outputs": [],
   "source": [
    "''' Question 4 '''"
   ]
  },
  {
   "cell_type": "code",
   "execution_count": null,
   "id": "06d51b1c-8555-4cec-b0ea-90f7e0c96e51",
   "metadata": {},
   "outputs": [],
   "source": [
    "''' DQL (Data Query Language):\n",
    "DQL is a subset of SQL used for querying and retrieving data from a database.\n",
    "\n",
    "SELECT: Used to retrieve data from one or more tables. Example:'''\n",
    "\n",
    "SELECT emp_name, emp_salary\n",
    "FROM employees\n",
    "WHERE emp_salary > 50000;"
   ]
  },
  {
   "cell_type": "code",
   "execution_count": null,
   "id": "ecb09bad-7b63-4abf-976f-c523510bcda9",
   "metadata": {},
   "outputs": [],
   "source": [
    "''' Question 5 '''"
   ]
  },
  {
   "cell_type": "code",
   "execution_count": 3,
   "id": "cdf836fc-dc59-4d0a-be2c-27c23fc13ca1",
   "metadata": {},
   "outputs": [
    {
     "ename": "SyntaxError",
     "evalue": "invalid syntax (4184269921.py, line 6)",
     "output_type": "error",
     "traceback": [
      "\u001b[0;36m  Cell \u001b[0;32mIn[3], line 6\u001b[0;36m\u001b[0m\n\u001b[0;31m    CREATE TABLE students (\u001b[0m\n\u001b[0m           ^\u001b[0m\n\u001b[0;31mSyntaxError\u001b[0m\u001b[0;31m:\u001b[0m invalid syntax\n"
     ]
    }
   ],
   "source": [
    "import mysql.connector\n",
    "'''Primary Key: A primary key is a column or a set of columns in a table that uniquely identifies each row in the table. It enforces the uniqueness constraint and ensures that each row has a unique identifier. Primary keys are used to establish relationships between tables and are often indexed for faster retrieval.\n",
    "\n",
    "Example:'''\n",
    "\n",
    "CREATE TABLE students (\n",
    "    student_id INT PRIMARY KEY,\n",
    "    student_name VARCHAR(50)\n",
    ");\n",
    "\n",
    "'''Foreign Key: A foreign key is a column or a set of columns in a table that establishes a link between the data in two tables. It creates a relationship between tables by referencing the primary key of another table. Foreign keys are used to enforce referential integrity.\n",
    "\n",
    "Example:'''\n",
    "\n",
    "CREATE TABLE enrollments (\n",
    "    enrollment_id INT PRIMARY KEY,\n",
    "    student_id INT,\n",
    "    course_id INT,\n",
    "    FOREIGN KEY (student_id) REFERENCES students(student_id),\n",
    "    FOREIGN KEY (course_id) REFERENCES courses(course_id)\n",
    ");"
   ]
  },
  {
   "cell_type": "code",
   "execution_count": 6,
   "id": "72da589b-2b28-4766-98a3-2d2ee4c28571",
   "metadata": {},
   "outputs": [
    {
     "ename": "SyntaxError",
     "evalue": "invalid syntax (3624917132.py, line 2)",
     "output_type": "error",
     "traceback": [
      "\u001b[0;36m  Cell \u001b[0;32mIn[6], line 2\u001b[0;36m\u001b[0m\n\u001b[0;31m    pip install mysql-connector-python\u001b[0m\n\u001b[0m        ^\u001b[0m\n\u001b[0;31mSyntaxError\u001b[0m\u001b[0;31m:\u001b[0m invalid syntax\n"
     ]
    }
   ],
   "source": [
    "''' Question 6 '''\n",
    "pip install mysql-connector-python"
   ]
  },
  {
   "cell_type": "code",
   "execution_count": 5,
   "id": "7ad05f67-a949-4f3e-a8fb-189dd5be6806",
   "metadata": {},
   "outputs": [
    {
     "ename": "SyntaxError",
     "evalue": "invalid syntax (2454183875.py, line 1)",
     "output_type": "error",
     "traceback": [
      "\u001b[0;36m  Cell \u001b[0;32mIn[5], line 1\u001b[0;36m\u001b[0m\n\u001b[0;31m    pip install mysql-connector-python\u001b[0m\n\u001b[0m        ^\u001b[0m\n\u001b[0;31mSyntaxError\u001b[0m\u001b[0;31m:\u001b[0m invalid syntax\n"
     ]
    }
   ],
   "source": [
    "import mysql.connector\n",
    "\n",
    "# Establish a connection to the MySQL database\n",
    "connection = mysql.connector.connect(\n",
    "    host=\"localhost\",\n",
    "    user=\"Naresh\",\n",
    "    password=\"naresh123\",\n",
    "    database=\"mydatabase\"\n",
    ")\n",
    "\n",
    "# Create a cursor object to interact with the database\n",
    "cursor = connection.cursor()\n",
    "\n",
    "# Execute SQL queries\n",
    "try:\n",
    "    # Example 1: SELECT query\n",
    "    cursor.execute(\"SELECT * FROM employees\")\n",
    "    result = cursor.fetchall()  # Retrieve all rows from the result set\n",
    "    for row in result:\n",
    "        print(row)\n",
    "\n",
    "    # Example 2: INSERT query\n",
    "    cursor.execute(\"INSERT INTO employees (emp_name, emp_salary) VALUES (%s, %s)\", (\"John Doe\", 50000))\n",
    "    connection.commit()  # Commit the transaction\n",
    "\n",
    "    # Example 3: UPDATE query\n",
    "    cursor.execute(\"UPDATE employees SET emp_salary = 55000 WHERE emp_id = 1\")\n",
    "    connection.commit()\n",
    "\n",
    "    # Example 4: DELETE query\n",
    "    cursor.execute(\"DELETE FROM employees WHERE emp_id = 1\")\n",
    "    connection.commit()\n",
    "\n",
    "except mysql.connector.Error as err:\n",
    "    print(\"Error:\", err)\n",
    "\n",
    "# Close the cursor and the database connection\n",
    "cursor.close()\n",
    "connection.close()\n"
   ]
  },
  {
   "cell_type": "code",
   "execution_count": null,
   "id": "5912eb60-15ef-4250-abe2-f8f4808f0e87",
   "metadata": {},
   "outputs": [],
   "source": [
    "''' Question 6 '''"
   ]
  },
  {
   "cell_type": "code",
   "execution_count": null,
   "id": "a5229687-94d1-46a9-840a-7e32550142ac",
   "metadata": {},
   "outputs": [],
   "source": [
    "The order of execution of SQL clauses in an SQL query is generally as follows:\n",
    "\n",
    "FROM: The FROM clause specifies the tables from which you are retrieving data. It identifies the source tables for your query.\n",
    "\n",
    "WHERE: The WHERE clause is used to filter rows from the tables specified in the FROM clause. \n",
    "It specifies conditions that rows must meet to be included in the result set.\n",
    "\n",
    "GROUP BY: The GROUP BY clause is used to group rows with similar values into summary rows. \n",
    "It is often used in conjunction with aggregate functions like COUNT, SUM, AVG, etc.\n",
    "\n",
    "HAVING: The HAVING clause is used to filter the results of a GROUP BY clause. \n",
    "It specifies conditions that grouped rows must meet to be included in the result set.\n",
    "\n",
    "SELECT: The SELECT clause specifies the columns you want to include in the result set. \n",
    "It comes after the FROM, WHERE, GROUP BY, and HAVING clauses.\n",
    "\n",
    "DISTINCT: The DISTINCT keyword is used to eliminate duplicate rows from the result set. \n",
    "It operates on the columns specified in the SELECT clause.\n",
    "\n",
    "ORDER BY: The ORDER BY clause is used to sort the result set based on one or more columns. \n",
    "It is applied after all other clauses have been executed.\n",
    "\n",
    "LIMIT/OFFSET: The LIMIT and OFFSET clauses (often used together) are used for pagination. \n",
    "They limit the number of rows returned and specify the starting point for the result set.\n",
    "\n",
    "UNION/INTERSECT/EXCEPT: If you are using set operations like UNION, INTERSECT, or EXCEPT, these clauses are applied after the individual result sets are obtained from the preceding clauses."
   ]
  }
 ],
 "metadata": {
  "kernelspec": {
   "display_name": "Python 3 (ipykernel)",
   "language": "python",
   "name": "python3"
  },
  "language_info": {
   "codemirror_mode": {
    "name": "ipython",
    "version": 3
   },
   "file_extension": ".py",
   "mimetype": "text/x-python",
   "name": "python",
   "nbconvert_exporter": "python",
   "pygments_lexer": "ipython3",
   "version": "3.10.8"
  }
 },
 "nbformat": 4,
 "nbformat_minor": 5
}
