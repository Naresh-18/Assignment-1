{
 "cells": [
  {
   "cell_type": "code",
   "execution_count": null,
   "id": "44025533-b95d-4105-b6c1-36372ede599a",
   "metadata": {},
   "outputs": [],
   "source": [
    "''' Question 1 '''"
   ]
  },
  {
   "cell_type": "code",
   "execution_count": 12,
   "id": "0d66a919-1958-4c9e-9652-871f58cbc28b",
   "metadata": {},
   "outputs": [],
   "source": [
    "class vehicle:\n",
    "    def __init__(self, name_of_the_vehicle, max_speed, average_of_vehicle):\n",
    "        self.name_of_the_vehicle=name_of_the_vehicle\n",
    "        self.max_speed=max_speed\n",
    "        self.average_of_vehicle=average_of_vehicle"
   ]
  },
  {
   "cell_type": "code",
   "execution_count": 11,
   "id": "108d7fc3-e0d7-44d2-acb0-02b3586b7689",
   "metadata": {},
   "outputs": [
    {
     "name": "stdout",
     "output_type": "stream",
     "text": [
      "Tesla Model S\n",
      "150\n",
      "90\n"
     ]
    }
   ],
   "source": [
    "car=vehicle(\"Tesla Model S\", 150, 90)\n",
    "print(car.name_of_the_vehicle)\n",
    "print(car.max_speed)\n",
    "print(car.average_of_vehicle)"
   ]
  },
  {
   "cell_type": "code",
   "execution_count": null,
   "id": "d1437980-b83e-4905-85fa-bff08e289a94",
   "metadata": {},
   "outputs": [],
   "source": [
    "''' Question 2 '''"
   ]
  },
  {
   "cell_type": "code",
   "execution_count": 27,
   "id": "ccb1198a-2a75-4d63-a305-4e54139e9d15",
   "metadata": {},
   "outputs": [],
   "source": [
    "class car(vehicle):\n",
    "    def __init__(self, name_of_the_vehicle, max_speed, average_of_vehicle):\n",
    "        vehicle.__init__(self, name_of_the_vehicle, max_speed, average_of_vehicle)\n",
    "    def seating_capacity(self, capacity):\n",
    "        return f\"{self.name_of_the_vehicle} has a seating capacity of {capacity} people.\""
   ]
  },
  {
   "cell_type": "code",
   "execution_count": 28,
   "id": "ae14d79c-aa93-4560-8ee8-d5b60e7aed7d",
   "metadata": {},
   "outputs": [
    {
     "name": "stdout",
     "output_type": "stream",
     "text": [
      "Hero MT15 has a seating capacity of 2 people.\n"
     ]
    }
   ],
   "source": [
    "bike=car(\"Hero MT15\",200,100)\n",
    "print(bike.seating_capacity(2))"
   ]
  },
  {
   "cell_type": "code",
   "execution_count": null,
   "id": "64b029f8-0674-47f1-a3cc-6a3e0af84322",
   "metadata": {},
   "outputs": [],
   "source": [
    "''' Question 3 '''"
   ]
  },
  {
   "cell_type": "code",
   "execution_count": 8,
   "id": "bf2dab2b-9fdd-4a38-843c-4e87ded32ff8",
   "metadata": {},
   "outputs": [
    {
     "data": {
      "text/plain": [
       "<function __main__.test2.test_class2(self)>"
      ]
     },
     "execution_count": 8,
     "metadata": {},
     "output_type": "execute_result"
    }
   ],
   "source": [
    "''' Multiple inheritance is a feature in object-oriented programming where a class can inherit attributes and behaviors from multiple parent classes.'''\n",
    "class test1():\n",
    "    def test_class1(self):\n",
    "        return \"Hello there!!\"\n",
    "class test2(test1):\n",
    "    def test_class2(self):\n",
    "        return \"Hello! How are you doing\"\n",
    "class test3(test2):\n",
    "    def test_class3(self):\n",
    "        pass\n",
    "obj_class3=test3\n",
    "obj_class3.test_class2"
   ]
  },
  {
   "cell_type": "code",
   "execution_count": null,
   "id": "3c79cf30-fc2d-4a10-8156-8e6cfbe94ffb",
   "metadata": {},
   "outputs": [],
   "source": [
    "''' Question 4 '''"
   ]
  },
  {
   "cell_type": "code",
   "execution_count": 9,
   "id": "7ed4511e-0888-451e-bc9f-addcad1314e8",
   "metadata": {},
   "outputs": [
    {
     "name": "stdout",
     "output_type": "stream",
     "text": [
      "Radius: 5\n",
      "Modified Radius: 7\n",
      "Error: Radius cannot be negative.\n"
     ]
    }
   ],
   "source": [
    "''' Getter and Setter methods are used to control the access and modification of class attributes. \n",
    "They allow you to encapsulate the data and provide a controlled interface to interact with the attributes of the class. \n",
    "Getters are used to access the attribute's value, \n",
    "while setters are used to modify the attribute's value while applying validation or additional logic if needed.'''\n",
    "\n",
    "class Circle:\n",
    "    def __init__(self, radius):\n",
    "        self._radius = radius\n",
    "    def get_radius(self):\n",
    "        return self._radius\n",
    "    def set_radius(self, radius):\n",
    "        if radius < 0:\n",
    "            raise ValueError(\"Radius cannot be negative.\")\n",
    "        self._radius = radius\n",
    "    def area(self):\n",
    "        return 3.14 * self._radius ** 2\n",
    "circle = Circle(5)\n",
    "print(\"Radius:\", circle.get_radius())\n",
    "circle.set_radius(7)\n",
    "print(\"Modified Radius:\", circle.get_radius()) \n",
    "try:\n",
    "    circle.set_radius(-3)\n",
    "except ValueError as e:\n",
    "    print(\"Error:\", e)"
   ]
  },
  {
   "cell_type": "code",
   "execution_count": null,
   "id": "43c79c10-ac4e-41e1-8618-be30f6ad0620",
   "metadata": {},
   "outputs": [],
   "source": [
    "''' Question 5 '''"
   ]
  },
  {
   "cell_type": "code",
   "execution_count": null,
   "id": "a0dbc136-1434-4331-b2be-d4118fb288e5",
   "metadata": {},
   "outputs": [],
   "source": [
    "''' Method overriding is a concept in object-oriented programming where a subclass provides a \n",
    "specific implementation for a method that is already defined in its superclass. \n",
    "When a method is overridden in the subclass, the subclass's version of the method takes precedence over the superclass's version.\n",
    "\n"
   ]
  }
 ],
 "metadata": {
  "kernelspec": {
   "display_name": "Python 3 (ipykernel)",
   "language": "python",
   "name": "python3"
  },
  "language_info": {
   "codemirror_mode": {
    "name": "ipython",
    "version": 3
   },
   "file_extension": ".py",
   "mimetype": "text/x-python",
   "name": "python",
   "nbconvert_exporter": "python",
   "pygments_lexer": "ipython3",
   "version": "3.10.8"
  }
 },
 "nbformat": 4,
 "nbformat_minor": 5
}
