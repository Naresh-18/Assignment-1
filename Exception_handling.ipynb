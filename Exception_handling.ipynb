{
 "cells": [
  {
   "cell_type": "code",
   "execution_count": null,
   "id": "522db2f4-afbb-40ab-b1b0-e81b97b9579a",
   "metadata": {},
   "outputs": [],
   "source": [
    "''' Question 1 '''"
   ]
  },
  {
   "cell_type": "code",
   "execution_count": null,
   "id": "dfd0fba4-7cba-486d-bac5-11ea0987dc61",
   "metadata": {},
   "outputs": [],
   "source": [
    "-> An exception is an error that occurs during the execution of a Python program. \n",
    "It interrupts the normal flow of the program and can be caused by various reasons such as invalid input, file not found, etc.\n",
    "\n",
    "\n",
    "-> Syntax errors, on the other hand, are errors that occur when the Python interpreter cannot understand the code due to incorrect syntax."
   ]
  },
  {
   "cell_type": "code",
   "execution_count": null,
   "id": "630eca32-fade-4a29-b1f1-ee62c74ad7b8",
   "metadata": {},
   "outputs": [],
   "source": [
    "''' Question 2 '''"
   ]
  },
  {
   "cell_type": "code",
   "execution_count": null,
   "id": "0b59395a-7be4-48bc-b5b6-3e6f989514b5",
   "metadata": {},
   "outputs": [],
   "source": [
    "-> When an exception is not handled, it results in a runtime error and terminates the program abruptly.\n",
    "-> For example, if we try to divide a number by zero, it will raise a ZeroDivisionError. If we do not handle this exception, the program will terminate with an error message."
   ]
  },
  {
   "cell_type": "code",
   "execution_count": null,
   "id": "2b7d0210-bc3d-454e-8d2c-505abacbc7c2",
   "metadata": {},
   "outputs": [],
   "source": [
    "''' Question 3 '''"
   ]
  },
  {
   "cell_type": "code",
   "execution_count": 3,
   "id": "e94ed1d2-6943-44dd-aeb4-a357eed1895a",
   "metadata": {},
   "outputs": [
    {
     "name": "stdout",
     "output_type": "stream",
     "text": [
      "Cannot divide by zero\n"
     ]
    }
   ],
   "source": [
    "'''The try and except statements are used to catch and handle exceptions in Python.\n",
    "For example, if we want to handle a ZeroDivisionError, we can use the following code:'''\n",
    "    \n",
    "    \n",
    "try:\n",
    "    result = 10/0\n",
    "except ZeroDivisionError:\n",
    "    print(\"Cannot divide by zero\")"
   ]
  },
  {
   "cell_type": "code",
   "execution_count": null,
   "id": "91ae699e-0b18-4ecc-8187-c7eb6a02e632",
   "metadata": {},
   "outputs": [],
   "source": [
    "''' Question 4 '''"
   ]
  },
  {
   "cell_type": "code",
   "execution_count": null,
   "id": "ea43c8c2-ee7c-417b-ba02-daadbae0cb45",
   "metadata": {},
   "outputs": [],
   "source": [
    "''' The try, except, else, finally, and raise statements are used to handle exceptions in Python.\n",
    "For example: '''\n",
    "    \n",
    "    \n",
    "try:\n",
    "    num = int(input(\"Enter a number: \"))\n",
    "    result = 10/num\n",
    "except ValueError:\n",
    "    print(\"Invalid input\")\n",
    "else:\n",
    "    print(\"Result is\", result)\n",
    "finally:\n",
    "    print(\"Execution completed\")\n"
   ]
  },
  {
   "cell_type": "code",
   "execution_count": null,
   "id": "5bc54562-c4b5-47ec-8375-53fde01448b4",
   "metadata": {},
   "outputs": [],
   "source": [
    "''' Raise '''\n",
    "\n",
    "def divide(a, b):\n",
    "    if b == 0:\n",
    "        raise ValueError(\"Division by zero is not allowed.\")\n",
    "    return a / b\n",
    "\n",
    "try:\n",
    "    result = divide(10, 0)\n",
    "    print(\"Result:\", result)\n",
    "except ValueError as e:\n",
    "    print(\"Error:\", e)\n"
   ]
  },
  {
   "cell_type": "code",
   "execution_count": 5,
   "id": "92f0a23e-ce75-4bda-a2ec-4fd5a51adaf3",
   "metadata": {},
   "outputs": [
    {
     "name": "stdout",
     "output_type": "stream",
     "text": [
      "Error: File not found.\n"
     ]
    },
    {
     "ename": "NameError",
     "evalue": "name 'file' is not defined",
     "output_type": "error",
     "traceback": [
      "\u001b[0;31m---------------------------------------------------------------------------\u001b[0m",
      "\u001b[0;31mNameError\u001b[0m                                 Traceback (most recent call last)",
      "Cell \u001b[0;32mIn[5], line 10\u001b[0m\n\u001b[1;32m      8\u001b[0m     \u001b[38;5;28mprint\u001b[39m(\u001b[38;5;124m\"\u001b[39m\u001b[38;5;124mError: File not found.\u001b[39m\u001b[38;5;124m\"\u001b[39m)\n\u001b[1;32m      9\u001b[0m \u001b[38;5;28;01mfinally\u001b[39;00m:\n\u001b[0;32m---> 10\u001b[0m     \u001b[43mfile\u001b[49m\u001b[38;5;241m.\u001b[39mclose()\n",
      "\u001b[0;31mNameError\u001b[0m: name 'file' is not defined"
     ]
    }
   ],
   "source": [
    "''' Finally '''\n",
    "\n",
    "try:\n",
    "    file = open(\"example.txt\", \"r\")\n",
    "    data = file.read()\n",
    "    print(\"File content:\", data)\n",
    "except FileNotFoundError:\n",
    "    print(\"Error: File not found.\")\n",
    "finally:\n",
    "    file.close()\n"
   ]
  },
  {
   "cell_type": "code",
   "execution_count": null,
   "id": "257c6f73-825c-4197-8329-4c5d154b84b3",
   "metadata": {},
   "outputs": [],
   "source": [
    "''' Question 5 '''"
   ]
  },
  {
   "cell_type": "code",
   "execution_count": 4,
   "id": "7525f22a-6d47-48df-9311-305e7794158d",
   "metadata": {},
   "outputs": [
    {
     "name": "stdout",
     "output_type": "stream",
     "text": [
      "Number cannot be negative\n"
     ]
    }
   ],
   "source": [
    "'''\n",
    "* Custom exceptions are user-defined exceptions that can be raised when a specific error condition occurs in a program.\n",
    "* We need custom exceptions when we want to handle specific errors in a program that are not covered by the built-in exceptions.\n",
    "-> For example:   '''\n",
    "    \n",
    "    \n",
    "class NegativeNumberError(Exception):\n",
    "    pass\n",
    "\n",
    "def calculate_square_root(num):\n",
    "    if num < 0:\n",
    "        raise NegativeNumberError(\"Number cannot be negative\")\n",
    "    else:\n",
    "        return math.sqrt(num)\n",
    "\n",
    "try:\n",
    "    result = calculate_square_root(-4)\n",
    "except NegativeNumberError as e:\n",
    "    print(e)"
   ]
  },
  {
   "cell_type": "code",
   "execution_count": null,
   "id": "ac55577f-de70-4419-b290-1b1231b92824",
   "metadata": {},
   "outputs": [],
   "source": []
  }
 ],
 "metadata": {
  "kernelspec": {
   "display_name": "Python 3 (ipykernel)",
   "language": "python",
   "name": "python3"
  },
  "language_info": {
   "codemirror_mode": {
    "name": "ipython",
    "version": 3
   },
   "file_extension": ".py",
   "mimetype": "text/x-python",
   "name": "python",
   "nbconvert_exporter": "python",
   "pygments_lexer": "ipython3",
   "version": "3.10.8"
  }
 },
 "nbformat": 4,
 "nbformat_minor": 5
}
