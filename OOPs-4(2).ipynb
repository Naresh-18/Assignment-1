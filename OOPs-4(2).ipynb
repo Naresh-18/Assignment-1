{
 "cells": [
  {
   "cell_type": "code",
   "execution_count": null,
   "id": "1b6a39a5-a159-442e-beb0-c00c0cca185e",
   "metadata": {},
   "outputs": [],
   "source": [
    "''' Question 1 '''"
   ]
  },
  {
   "cell_type": "code",
   "execution_count": 2,
   "id": "16a9c38b-bcbf-4170-8a5c-a77221e3f872",
   "metadata": {},
   "outputs": [
    {
     "name": "stdout",
     "output_type": "stream",
     "text": [
      "Car engine started.\n",
      "Motorcycle engine started.\n"
     ]
    }
   ],
   "source": [
    "'''Abstraction focuses on providing a simplified and high-level view of an object or system while hiding the unnecessary complexities. \n",
    "It allows us to define the essential characteristics and behaviors of an object without getting into the implementation details. \n",
    "Abstraction enables the creation of abstract classes and interfaces, which act as templates for other classes to implement and provide a common set of methods to be used across multiple objects.'''\n",
    "\n",
    "from abc import ABC, abstractmethod\n",
    "\n",
    "class Vehicle(ABC):\n",
    "    @abstractmethod\n",
    "    def start(self):\n",
    "        pass\n",
    "\n",
    "class Car(Vehicle):\n",
    "    def start(self):\n",
    "        return \"Car engine started.\"\n",
    "\n",
    "class Motorcycle(Vehicle):\n",
    "    def start(self):\n",
    "        return \"Motorcycle engine started.\"\n",
    "\n",
    "car = Car()\n",
    "motorcycle = Motorcycle()\n",
    "\n",
    "print(car.start())         \n",
    "print(motorcycle.start())  "
   ]
  },
  {
   "cell_type": "code",
   "execution_count": null,
   "id": "369d3efa-ee13-4cd7-a5df-e00a8d9b9334",
   "metadata": {},
   "outputs": [],
   "source": [
    "''' Question 2 '''"
   ]
  },
  {
   "cell_type": "code",
   "execution_count": 4,
   "id": "5c30fff3-86a8-42c9-8b3b-e51637d5ff4d",
   "metadata": {},
   "outputs": [
    {
     "name": "stdout",
     "output_type": "stream",
     "text": [
      "1300\n",
      "123456789\n"
     ]
    },
    {
     "data": {
      "text/plain": [
       "\"In this example, abstraction allows us to interact with the bank account using the common interface defined in the BankAccount abstract class, hiding the specific implementation details of the SavingsAccount class. \\nEncapsulation, on the other hand, ensures that the bank account's data (attributes) is encapsulated and can only be accessed and modified through the methods provided by the class.\""
      ]
     },
     "execution_count": 4,
     "metadata": {},
     "output_type": "execute_result"
    }
   ],
   "source": [
    "''' Abstraction is the process of providing a simplified and high-level view of an object or system while hiding unnecessary details. \n",
    "It allows us to focus on the essential characteristics and behaviors of an object without being concerned about its internal implementation. \n",
    "Abstraction is achieved through the use of abstract classes and interfaces, where abstract classes define abstract methods as placeholders for functionality that must be implemented by subclasses.\n",
    "Abstraction is about defining an interface or a contract for a class, specifying what it can do without specifying how it does it. The implementation details are left to the subclasses, which provide concrete implementations for the abstract methods.\n",
    "\n",
    "Encapsulation is the process of bundling data (attributes) and methods (functions) that operate on that data within a single unit, called a class. \n",
    "It ensures that the data is hidden from the outside world and can only be accessed and modified through the methods provided by the class. \n",
    "Encapsulation helps in achieving data hiding, preventing unauthorized access, and maintaining the integrity of the object's state.\n",
    "Encapsulation is about bundling related data and behavior together and controlling access to that data through well-defined interfaces (methods).\n",
    "It allows the object to control how its internal data is accessed and modified, providing a level of security and preventing unintended interference.'''\n",
    "\n",
    "from abc import ABC, abstractmethod\n",
    "\n",
    "class BankAccount(ABC):\n",
    "    def __init__(self, account_number, balance):\n",
    "        self._account_number = account_number\n",
    "        self._balance = balance\n",
    "\n",
    "    @abstractmethod\n",
    "    def deposit(self, amount):\n",
    "        pass\n",
    "\n",
    "    @abstractmethod\n",
    "    def withdraw(self, amount):\n",
    "        pass\n",
    "\n",
    "    def get_balance(self):\n",
    "        return self._balance\n",
    "\n",
    "class SavingsAccount(BankAccount):\n",
    "    def deposit(self, amount):\n",
    "        self._balance += amount\n",
    "\n",
    "    def withdraw(self, amount):\n",
    "        if amount <= self._balance:\n",
    "            self._balance -= amount\n",
    "        else:\n",
    "            print(\"Insufficient funds.\")\n",
    "\n",
    "\n",
    "savings_account = SavingsAccount(\"123456789\", 1000)\n",
    "\n",
    "\n",
    "savings_account.deposit(500)\n",
    "savings_account.withdraw(200)\n",
    "print(savings_account.get_balance())  \n",
    "\n",
    "\n",
    "print(savings_account._account_number)  \n",
    "\n",
    "'''In this example, abstraction allows us to interact with the bank account using the common interface defined in the BankAccount abstract class, hiding the specific implementation details of the SavingsAccount class. \n",
    "Encapsulation, on the other hand, ensures that the bank account's data (attributes) is encapsulated and can only be accessed and modified through the methods provided by the class.'''"
   ]
  },
  {
   "cell_type": "code",
   "execution_count": null,
   "id": "b1c52e63-63af-4000-b572-c0bb33f05729",
   "metadata": {},
   "outputs": [],
   "source": [
    "''' Question 3 '''"
   ]
  },
  {
   "cell_type": "code",
   "execution_count": null,
   "id": "bd2f33d8-622d-4251-8bc0-987724a19b1e",
   "metadata": {},
   "outputs": [],
   "source": [
    "The abc module stands for Abstract Base Classes.\n",
    "It is a module that provides tools for working with abstract classes and interfaces, following the concept of Abstraction, which is one of the four pillars of Object-Oriented Programming (OOP).\n",
    "\n",
    "The main purpose of the abc module is to promote code organization, maintainability, and reusability by enforcing a contract between classes. \n",
    "It ensures that certain methods must be implemented in concrete subclasses, providing a clear separation between the interface and the implementation."
   ]
  },
  {
   "cell_type": "code",
   "execution_count": null,
   "id": "9ae69357-3d87-4c4e-977d-f847fb60ed87",
   "metadata": {},
   "outputs": [],
   "source": [
    "''' Question 4 '''"
   ]
  },
  {
   "cell_type": "code",
   "execution_count": 8,
   "id": "5b24fc85-612c-4e13-992c-a13e34cc9a50",
   "metadata": {},
   "outputs": [
    {
     "name": "stdout",
     "output_type": "stream",
     "text": [
      "Implementation of Data_abstraction_method.\n"
     ]
    }
   ],
   "source": [
    "'''Data abstraction can be achieved in Python through the use of abstract classes and interfaces. \n",
    "The abc module in Python provides tools for defining abstract classes and abstract methods, which form the basis of data abstraction.'''\n",
    "\n",
    "from abc import ABC, abstractmethod\n",
    "class AbstractClass(ABC):\n",
    "    @abstractmethod\n",
    "    def abstract_method(self):\n",
    "        pass\n",
    "    @abstractmethod\n",
    "    def abstract_method(self):\n",
    "        pass\n",
    "class ConcreteClass(AbstractClass):\n",
    "    def abstract_method(self):\n",
    "        print(\"Implementation of Data_abstraction_method.\")\n",
    "obj = ConcreteClass()\n",
    "obj.abstract_method()  "
   ]
  },
  {
   "cell_type": "code",
   "execution_count": null,
   "id": "7e13c4de-07ea-44b5-a7e2-1633b0fe00c0",
   "metadata": {},
   "outputs": [],
   "source": [
    "''' Question 5 '''"
   ]
  },
  {
   "cell_type": "code",
   "execution_count": null,
   "id": "5bac7277-ff2c-4860-afb8-65e65429812d",
   "metadata": {},
   "outputs": [],
   "source": []
  }
 ],
 "metadata": {
  "kernelspec": {
   "display_name": "Python 3 (ipykernel)",
   "language": "python",
   "name": "python3"
  },
  "language_info": {
   "codemirror_mode": {
    "name": "ipython",
    "version": 3
   },
   "file_extension": ".py",
   "mimetype": "text/x-python",
   "name": "python",
   "nbconvert_exporter": "python",
   "pygments_lexer": "ipython3",
   "version": "3.10.8"
  }
 },
 "nbformat": 4,
 "nbformat_minor": 5
}
