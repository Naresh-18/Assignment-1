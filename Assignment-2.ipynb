{
 "cells": [
  {
   "cell_type": "code",
   "execution_count": 1,
   "id": "bb2e2b40-a758-4a6d-9b75-cbb703c2b961",
   "metadata": {},
   "outputs": [
    {
     "name": "stdout",
     "output_type": "stream",
     "text": [
      "Naresh\n"
     ]
    }
   ],
   "source": [
    "# Single-line Comment-Starts and ends in the single line. \n",
    "# name of the person \n",
    "name=\"Naresh\"\n",
    "print(name)"
   ]
  },
  {
   "cell_type": "code",
   "execution_count": 2,
   "id": "87292fd2-3e01-4df3-96d7-e527dfa6db30",
   "metadata": {},
   "outputs": [
    {
     "name": "stdout",
     "output_type": "stream",
     "text": [
      "Naresh\n"
     ]
    }
   ],
   "source": [
    "# Multiple-line Comments-Python doesn't offer a seperate way to write multiple comments, \n",
    "# However we can use it by mentioning in the seperate line.\n",
    "# This is one-way to represent the multi-line comments, but the other way is by using DocString i.e.,\n",
    "name=\"Naresh\"\n",
    "'''This is the second \n",
    "way to represent the multi-line \n",
    "comments in different lines'''\n",
    "print(name)"
   ]
  },
  {
   "cell_type": "code",
   "execution_count": 1,
   "id": "5ae787eb-0095-4310-978f-1d285e322418",
   "metadata": {},
   "outputs": [
    {
     "name": "stdout",
     "output_type": "stream",
     "text": [
      "4\n"
     ]
    }
   ],
   "source": [
    "''' A Variable is a string of character and numbers associated with a piece of information.\n",
    "We can declare or assign by giving it a name, put the equal sign(=) and then the value we want to assign ''' \n",
    "# Example\n",
    "n=4\n",
    "print(n)"
   ]
  },
  {
   "cell_type": "code",
   "execution_count": 2,
   "id": "0571020c-c3aa-432d-b20a-a0dbc839d804",
   "metadata": {},
   "outputs": [
    {
     "name": "stdout",
     "output_type": "stream",
     "text": [
      "30\n"
     ]
    }
   ],
   "source": [
    "''' We can convert one data type to another data type by type-casting '''\n",
    "# Example\n",
    "s=\"18\"\n",
    "r=12\n",
    "num_s=int(s) # type-casting\n",
    "sum=num_s+r\n",
    "print(sum)"
   ]
  },
  {
   "cell_type": "code",
   "execution_count": null,
   "id": "45a2a2aa-33a9-48c2-a904-a924b54e7819",
   "metadata": {},
   "outputs": [],
   "source": [
    "''' To run the Python script with the python command, you need to open-command line\n",
    "type in the word python or python3 followed by the path to your script \n",
    "for example: '''\n",
    "# $ python3 hello.ipynb"
   ]
  },
  {
   "cell_type": "code",
   "execution_count": 3,
   "id": "70358648-a55f-451f-aacb-b8550773fcda",
   "metadata": {},
   "outputs": [
    {
     "data": {
      "text/plain": [
       "[3, 4]"
      ]
     },
     "execution_count": 3,
     "metadata": {},
     "output_type": "execute_result"
    }
   ],
   "source": [
    "my_list=[1,2,3,4,5]\n",
    "my_list[2:4] # as the indexing start from zero"
   ]
  },
  {
   "cell_type": "code",
   "execution_count": 5,
   "id": "f873d46e-f260-4eb8-b82d-7f014c3e483d",
   "metadata": {},
   "outputs": [
    {
     "name": "stdout",
     "output_type": "stream",
     "text": [
      "<class 'complex'>\n"
     ]
    }
   ],
   "source": [
    "''' Complex numbers are the numbers which are expressed in the form of (a+ib) where a,b are real numbers and i is an imaginary number '''\n",
    "# Example = 4+i9\n",
    "''' But in python we express them by replacing i with j i.e., \n",
    "Example = 4+6j '''\n",
    "n=4+6j\n",
    "print(type(n))"
   ]
  },
  {
   "cell_type": "code",
   "execution_count": 6,
   "id": "d9728ebc-6562-411b-a91d-1364cc6d5aee",
   "metadata": {},
   "outputs": [
    {
     "name": "stdout",
     "output_type": "stream",
     "text": [
      "25\n"
     ]
    }
   ],
   "source": [
    "''' As we have discussed above the variables can be assign by using the assignment operator i.e., equals to (=) '''\n",
    "age=25\n",
    "print(age)"
   ]
  },
  {
   "cell_type": "code",
   "execution_count": 8,
   "id": "e4501cfa-1c10-4af3-a407-2667430cbec0",
   "metadata": {},
   "outputs": [
    {
     "name": "stdout",
     "output_type": "stream",
     "text": [
      "<class 'float'>\n"
     ]
    }
   ],
   "source": [
    "''' We can easily find the data type of the given variable by using the keyword called (type) '''\n",
    "price=9.99\n",
    "print(type(price))"
   ]
  },
  {
   "cell_type": "code",
   "execution_count": 2,
   "id": "09aac79c-eea5-45e4-89af-2c52d3e4fd9a",
   "metadata": {},
   "outputs": [
    {
     "name": "stdout",
     "output_type": "stream",
     "text": [
      "World\n"
     ]
    }
   ],
   "source": [
    "s=\"Hello, World!\"\n",
    "print(s[7:12])"
   ]
  },
  {
   "cell_type": "code",
   "execution_count": null,
   "id": "e7a948ab-50e2-438c-a280-5ff04f5f718c",
   "metadata": {},
   "outputs": [],
   "source": [
    "# Boolean Variable\n",
    "name=\"Naresh\"\n",
    "is_student=True\n",
    "print(\"If he is a student then it returns else false\")\n"
   ]
  }
 ],
 "metadata": {
  "kernelspec": {
   "display_name": "Python 3 (ipykernel)",
   "language": "python",
   "name": "python3"
  },
  "language_info": {
   "codemirror_mode": {
    "name": "ipython",
    "version": 3
   },
   "file_extension": ".py",
   "mimetype": "text/x-python",
   "name": "python",
   "nbconvert_exporter": "python",
   "pygments_lexer": "ipython3",
   "version": "3.10.8"
  }
 },
 "nbformat": 4,
 "nbformat_minor": 5
}
