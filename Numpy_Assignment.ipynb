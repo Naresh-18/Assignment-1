{
 "cells": [
  {
   "cell_type": "code",
   "execution_count": 3,
   "id": "d4ad691b",
   "metadata": {},
   "outputs": [],
   "source": [
    "import numpy as np\n",
    "list_ = [\"1\",\"2\",\"3\",\"4\",\"5\"]\n",
    "array_list = np.array(object = list_)"
   ]
  },
  {
   "cell_type": "code",
   "execution_count": 4,
   "id": "ed30a477",
   "metadata": {},
   "outputs": [
    {
     "data": {
      "text/plain": [
       "array(['1', '2', '3', '4', '5'], dtype='<U1')"
      ]
     },
     "execution_count": 4,
     "metadata": {},
     "output_type": "execute_result"
    }
   ],
   "source": [
    "# Viewing array_list\n",
    "array_list"
   ]
  },
  {
   "cell_type": "code",
   "execution_count": null,
   "id": "1971517e",
   "metadata": {},
   "outputs": [],
   "source": [
    "'''Question-1'''"
   ]
  },
  {
   "cell_type": "code",
   "execution_count": 6,
   "id": "0cc95d18",
   "metadata": {},
   "outputs": [
    {
     "name": "stdout",
     "output_type": "stream",
     "text": [
      "Data type of list_ is : <class 'list'>\n",
      "Data type of array_list is : <class 'array.array'>\n"
     ]
    }
   ],
   "source": [
    "'''In Python, the names \"list_\" and \"array_list\" are not special, \n",
    "and the data type of a variable is determined by the type of object it refers to. \n",
    "If you have used these names for variables, it depends on how you have defined or assigned values to them.\n",
    "\n",
    "However, in general terms, if you have created a standard Python list, it will have the data type list. \n",
    "If you are using an array from the array module in Python, it will have the data type array.array.'''\n",
    "\n",
    "print('Data type of list_ is :',type(list_))\n",
    "print('Data type of array_list is :',type(array_list))"
   ]
  },
  {
   "cell_type": "code",
   "execution_count": null,
   "id": "c3df6f7f",
   "metadata": {},
   "outputs": [],
   "source": [
    "'''Question-2'''"
   ]
  },
  {
   "cell_type": "code",
   "execution_count": 7,
   "id": "b694df43",
   "metadata": {},
   "outputs": [
    {
     "name": "stdout",
     "output_type": "stream",
     "text": [
      "Element value : 1, datatype = <class 'int'>\n",
      "Element value : 2, datatype = <class 'int'>\n",
      "Element value : 3, datatype = <class 'int'>\n",
      "Element value : 4, datatype = <class 'int'>\n",
      "Element value : 5, datatype = <class 'int'>\n"
     ]
    }
   ],
   "source": [
    "for i in list_:\n",
    "    print(f'Element value : {i}, datatype = {type(i)}')"
   ]
  },
  {
   "cell_type": "code",
   "execution_count": 8,
   "id": "1668c0e2",
   "metadata": {},
   "outputs": [
    {
     "name": "stdout",
     "output_type": "stream",
     "text": [
      "Element value : 1, datatype = <class 'int'>\n",
      "Element value : 2, datatype = <class 'int'>\n",
      "Element value : 3, datatype = <class 'int'>\n",
      "Element value : 4, datatype = <class 'int'>\n",
      "Element value : 5, datatype = <class 'int'>\n"
     ]
    }
   ],
   "source": [
    "for i in array_list:\n",
    "    print(f'Element value : {i}, datatype = {type(i)}')"
   ]
  },
  {
   "cell_type": "code",
   "execution_count": null,
   "id": "990ba248",
   "metadata": {},
   "outputs": [],
   "source": [
    "'''Question-3'''"
   ]
  },
  {
   "cell_type": "code",
   "execution_count": 9,
   "id": "8fe20296",
   "metadata": {},
   "outputs": [],
   "source": [
    "array_list = np.array(object = list_, dtype = int)"
   ]
  },
  {
   "cell_type": "code",
   "execution_count": 10,
   "id": "66c30ecd",
   "metadata": {},
   "outputs": [
    {
     "data": {
      "text/plain": [
       "array([1, 2, 3, 4, 5])"
      ]
     },
     "execution_count": 10,
     "metadata": {},
     "output_type": "execute_result"
    }
   ],
   "source": [
    "# Viewing array_list\n",
    "array_list"
   ]
  },
  {
   "cell_type": "code",
   "execution_count": null,
   "id": "893be055",
   "metadata": {},
   "outputs": [],
   "source": [
    "'''In Python, both lists and arrays can contain elements of various data types. \n",
    "However, the specific data types of elements in a list or an array depend on the values you've assigned to them.'''"
   ]
  },
  {
   "cell_type": "code",
   "execution_count": 11,
   "id": "1d22fc29",
   "metadata": {},
   "outputs": [
    {
     "name": "stdout",
     "output_type": "stream",
     "text": [
      "Element value : 1, datatype = <class 'int'>\n",
      "Element value : 2, datatype = <class 'int'>\n",
      "Element value : 3, datatype = <class 'int'>\n",
      "Element value : 4, datatype = <class 'int'>\n",
      "Element value : 5, datatype = <class 'int'>\n"
     ]
    }
   ],
   "source": [
    "# Printing data types of each and every element in list_:\n",
    "for i in list_:\n",
    "    print(f'Element value : {i}, datatype = {type(i)}')"
   ]
  },
  {
   "cell_type": "code",
   "execution_count": 12,
   "id": "f3df5923",
   "metadata": {},
   "outputs": [
    {
     "name": "stdout",
     "output_type": "stream",
     "text": [
      "Element value : 1, datatype = <class 'numpy.int64'>\n",
      "Element value : 2, datatype = <class 'numpy.int64'>\n",
      "Element value : 3, datatype = <class 'numpy.int64'>\n",
      "Element value : 4, datatype = <class 'numpy.int64'>\n",
      "Element value : 5, datatype = <class 'numpy.int64'>\n"
     ]
    }
   ],
   "source": [
    "# Printing data types of each and every element in modified array_list\n",
    "for i in array_list:\n",
    "    print(f'Element value : {i}, datatype = {type(i)}')"
   ]
  },
  {
   "cell_type": "code",
   "execution_count": null,
   "id": "757b9032",
   "metadata": {},
   "outputs": [],
   "source": [
    "'''Here is the Example'''"
   ]
  },
  {
   "cell_type": "code",
   "execution_count": 18,
   "id": "e9849e4d",
   "metadata": {},
   "outputs": [
    {
     "data": {
      "text/plain": [
       "array([[1, 2, 3],\n",
       "       [4, 5, 6]])"
      ]
     },
     "execution_count": 18,
     "metadata": {},
     "output_type": "execute_result"
    }
   ],
   "source": [
    "import numpy as np\n",
    "num_list = [ [ 1 , 2 , 3 ] , [ 4 , 5 , 6 ] ]\n",
    "num_array = np.array(object = num_list)\n",
    "num_array"
   ]
  },
  {
   "cell_type": "code",
   "execution_count": null,
   "id": "e955531b",
   "metadata": {},
   "outputs": [],
   "source": [
    "'''Question-4'''"
   ]
  },
  {
   "cell_type": "code",
   "execution_count": 16,
   "id": "c50bdc7a",
   "metadata": {},
   "outputs": [
    {
     "data": {
      "text/plain": [
       "(2, 3)"
      ]
     },
     "execution_count": 16,
     "metadata": {},
     "output_type": "execute_result"
    }
   ],
   "source": [
    "# Showing num_array shape\n",
    "num_array.shape"
   ]
  },
  {
   "cell_type": "code",
   "execution_count": 17,
   "id": "af50049d",
   "metadata": {},
   "outputs": [
    {
     "data": {
      "text/plain": [
       "6"
      ]
     },
     "execution_count": 17,
     "metadata": {},
     "output_type": "execute_result"
    }
   ],
   "source": [
    "# Showing num_array size\n",
    "num_array.size"
   ]
  },
  {
   "cell_type": "code",
   "execution_count": null,
   "id": "3231ef12",
   "metadata": {},
   "outputs": [],
   "source": [
    "'''Question-5'''"
   ]
  },
  {
   "cell_type": "code",
   "execution_count": 21,
   "id": "13af99a0",
   "metadata": {},
   "outputs": [
    {
     "data": {
      "text/plain": [
       "array([[0., 0., 0.],\n",
       "       [0., 0., 0.],\n",
       "       [0., 0., 0.]])"
      ]
     },
     "execution_count": 21,
     "metadata": {},
     "output_type": "execute_result"
    }
   ],
   "source": [
    "## Using np.zeros to create a 3X3 matrix containing zeros\n",
    "array_5 = np.zeros((3,3))\n",
    "array_5"
   ]
  },
  {
   "cell_type": "code",
   "execution_count": 22,
   "id": "326d1ae6",
   "metadata": {},
   "outputs": [
    {
     "name": "stdout",
     "output_type": "stream",
     "text": [
      "Size of array_5 is 9\n",
      "Shape of array_5 is (3, 3)\n"
     ]
    }
   ],
   "source": [
    "# Verifying Matrix size and shape\n",
    "print(f'Size of array_5 is {array_5.size}')\n",
    "print(f'Shape of array_5 is {array_5.shape}')"
   ]
  },
  {
   "cell_type": "code",
   "execution_count": null,
   "id": "2e41e790",
   "metadata": {},
   "outputs": [],
   "source": [
    "'''Question-6'''"
   ]
  },
  {
   "cell_type": "code",
   "execution_count": 23,
   "id": "99f913c1",
   "metadata": {},
   "outputs": [
    {
     "data": {
      "text/plain": [
       "array([[1., 0., 0., 0., 0.],\n",
       "       [0., 1., 0., 0., 0.],\n",
       "       [0., 0., 1., 0., 0.],\n",
       "       [0., 0., 0., 1., 0.],\n",
       "       [0., 0., 0., 0., 1.]])"
      ]
     },
     "execution_count": 23,
     "metadata": {},
     "output_type": "execute_result"
    }
   ],
   "source": [
    "# Creating identity matrix using np.eye\n",
    "array_6 = np.eye(5)\n",
    "array_6"
   ]
  }
 ],
 "metadata": {
  "kernelspec": {
   "display_name": "Python 3 (ipykernel)",
   "language": "python",
   "name": "python3"
  },
  "language_info": {
   "codemirror_mode": {
    "name": "ipython",
    "version": 3
   },
   "file_extension": ".py",
   "mimetype": "text/x-python",
   "name": "python",
   "nbconvert_exporter": "python",
   "pygments_lexer": "ipython3",
   "version": "3.11.5"
  }
 },
 "nbformat": 4,
 "nbformat_minor": 5
}
