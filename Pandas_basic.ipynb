{
 "cells": [
  {
   "cell_type": "code",
   "execution_count": null,
   "id": "d62dc6bb",
   "metadata": {},
   "outputs": [],
   "source": [
    "'''Question-1'''"
   ]
  },
  {
   "cell_type": "code",
   "execution_count": 1,
   "id": "9e2e0776",
   "metadata": {},
   "outputs": [
    {
     "name": "stdout",
     "output_type": "stream",
     "text": [
      "0     4\n",
      "1     8\n",
      "2    15\n",
      "3    16\n",
      "4    23\n",
      "5    42\n",
      "dtype: int64\n"
     ]
    }
   ],
   "source": [
    "import pandas as pd\n",
    "series1 = pd.Series([4,8,15,16,23,42])\n",
    "print(series1)"
   ]
  },
  {
   "cell_type": "code",
   "execution_count": null,
   "id": "d2ec0d97",
   "metadata": {},
   "outputs": [],
   "source": [
    "'''Question-2'''"
   ]
  },
  {
   "cell_type": "code",
   "execution_count": 2,
   "id": "70956f72",
   "metadata": {},
   "outputs": [
    {
     "name": "stdout",
     "output_type": "stream",
     "text": [
      "[1, 4, 9, 16, 25, 36, 49, 64, 81, 100]\n"
     ]
    }
   ],
   "source": [
    "l2 = [(i+1)**2 for i in range(10)]\n",
    "print(l2)"
   ]
  },
  {
   "cell_type": "code",
   "execution_count": 3,
   "id": "b5c132e0",
   "metadata": {},
   "outputs": [
    {
     "name": "stdout",
     "output_type": "stream",
     "text": [
      "0      1\n",
      "1      4\n",
      "2      9\n",
      "3     16\n",
      "4     25\n",
      "5     36\n",
      "6     49\n",
      "7     64\n",
      "8     81\n",
      "9    100\n",
      "dtype: int64\n"
     ]
    }
   ],
   "source": [
    "series2 = pd.Series(l2)\n",
    "print(series2)"
   ]
  },
  {
   "cell_type": "code",
   "execution_count": null,
   "id": "0c6108e8",
   "metadata": {},
   "outputs": [],
   "source": [
    "'''Question-3'''"
   ]
  },
  {
   "cell_type": "code",
   "execution_count": 4,
   "id": "1d5684e7",
   "metadata": {},
   "outputs": [
    {
     "data": {
      "text/html": [
       "<div>\n",
       "<style scoped>\n",
       "    .dataframe tbody tr th:only-of-type {\n",
       "        vertical-align: middle;\n",
       "    }\n",
       "\n",
       "    .dataframe tbody tr th {\n",
       "        vertical-align: top;\n",
       "    }\n",
       "\n",
       "    .dataframe thead th {\n",
       "        text-align: right;\n",
       "    }\n",
       "</style>\n",
       "<table border=\"1\" class=\"dataframe\">\n",
       "  <thead>\n",
       "    <tr style=\"text-align: right;\">\n",
       "      <th></th>\n",
       "      <th>Name</th>\n",
       "      <th>Age</th>\n",
       "      <th>Gender</th>\n",
       "    </tr>\n",
       "  </thead>\n",
       "  <tbody>\n",
       "    <tr>\n",
       "      <th>0</th>\n",
       "      <td>Alice</td>\n",
       "      <td>25</td>\n",
       "      <td>Female</td>\n",
       "    </tr>\n",
       "    <tr>\n",
       "      <th>1</th>\n",
       "      <td>Bob</td>\n",
       "      <td>30</td>\n",
       "      <td>Male</td>\n",
       "    </tr>\n",
       "    <tr>\n",
       "      <th>2</th>\n",
       "      <td>Claire</td>\n",
       "      <td>27</td>\n",
       "      <td>Female</td>\n",
       "    </tr>\n",
       "  </tbody>\n",
       "</table>\n",
       "</div>"
      ],
      "text/plain": [
       "     Name  Age  Gender\n",
       "0   Alice   25  Female\n",
       "1     Bob   30    Male\n",
       "2  Claire   27  Female"
      ]
     },
     "execution_count": 4,
     "metadata": {},
     "output_type": "execute_result"
    }
   ],
   "source": [
    "dct3 = {\n",
    "    'Name':['Alice','Bob','Claire'],\n",
    "    'Age':[25,30,27],\n",
    "    'Gender':['Female','Male','Female']\n",
    "}\n",
    "df3 = pd.DataFrame(dct3)\n",
    "df3"
   ]
  },
  {
   "cell_type": "code",
   "execution_count": null,
   "id": "2d1b382d",
   "metadata": {},
   "outputs": [],
   "source": [
    "'''Question-4'''"
   ]
  },
  {
   "cell_type": "code",
   "execution_count": null,
   "id": "763e9554",
   "metadata": {},
   "outputs": [],
   "source": [
    "'''In Pandas, a DataFrame is a two-dimensional, tabular data structure with labeled axes (rows and columns). \n",
    "It is a highly flexible and efficient data structure for data manipulation and analysis. \n",
    "Each column in a DataFrame can be of a different data type, and you can perform various operations on the data, \n",
    "such as filtering, grouping, merging, and more.\n",
    "\n",
    "On the other hand, a Series is a one-dimensional labeled array capable of holding any data type. \n",
    "It is like a single column of a DataFrame and can be considered as the building block of a DataFrame'''"
   ]
  },
  {
   "cell_type": "code",
   "execution_count": 5,
   "id": "ff0e6fde",
   "metadata": {},
   "outputs": [
    {
     "data": {
      "text/html": [
       "<div>\n",
       "<style scoped>\n",
       "    .dataframe tbody tr th:only-of-type {\n",
       "        vertical-align: middle;\n",
       "    }\n",
       "\n",
       "    .dataframe tbody tr th {\n",
       "        vertical-align: top;\n",
       "    }\n",
       "\n",
       "    .dataframe thead th {\n",
       "        text-align: right;\n",
       "    }\n",
       "</style>\n",
       "<table border=\"1\" class=\"dataframe\">\n",
       "  <thead>\n",
       "    <tr style=\"text-align: right;\">\n",
       "      <th></th>\n",
       "      <th>Name</th>\n",
       "      <th>Age</th>\n",
       "      <th>Salary</th>\n",
       "    </tr>\n",
       "  </thead>\n",
       "  <tbody>\n",
       "    <tr>\n",
       "      <th>0</th>\n",
       "      <td>Alice</td>\n",
       "      <td>25</td>\n",
       "      <td>50000</td>\n",
       "    </tr>\n",
       "    <tr>\n",
       "      <th>1</th>\n",
       "      <td>Bob</td>\n",
       "      <td>30</td>\n",
       "      <td>60000</td>\n",
       "    </tr>\n",
       "    <tr>\n",
       "      <th>2</th>\n",
       "      <td>Charlie</td>\n",
       "      <td>35</td>\n",
       "      <td>75000</td>\n",
       "    </tr>\n",
       "  </tbody>\n",
       "</table>\n",
       "</div>"
      ],
      "text/plain": [
       "      Name  Age  Salary\n",
       "0    Alice   25   50000\n",
       "1      Bob   30   60000\n",
       "2  Charlie   35   75000"
      ]
     },
     "execution_count": 5,
     "metadata": {},
     "output_type": "execute_result"
    }
   ],
   "source": [
    "'''Here's a brief comparison between DataFrame and Series:\n",
    "\n",
    "* DataFrame:\n",
    "\n",
    " Two-dimensional structure with rows and columns.\n",
    " It can be seen as a collection of Series where each column is a Series.\n",
    " Suitable for handling tabular data and performing operations across multiple columns.\n",
    " Supports operations that involve multiple columns and rows.'''\n",
    "import pandas as pd\n",
    "\n",
    "# Creating a DataFrame\n",
    "data = {'Name': ['Alice', 'Bob', 'Charlie'],\n",
    "        'Age': [25, 30, 35],\n",
    "        'Salary': [50000, 60000, 75000]}\n",
    "\n",
    "df = pd.DataFrame(data)\n",
    "df"
   ]
  },
  {
   "cell_type": "code",
   "execution_count": 9,
   "id": "8c582a28",
   "metadata": {},
   "outputs": [
    {
     "data": {
      "text/plain": [
       "0    50000\n",
       "1    60000\n",
       "2    75000\n",
       "Name: Naresh, dtype: int64"
      ]
     },
     "execution_count": 9,
     "metadata": {},
     "output_type": "execute_result"
    }
   ],
   "source": [
    "'''\n",
    "* Series:\n",
    "\n",
    " One-dimensional labeled array.\n",
    " A single column of a DataFrame or an individual array with labels.\n",
    " Suitable for operations that involve a single column of data.\n",
    " It can be extracted from a DataFrame using column indexing.'''\n",
    "import pandas as pd\n",
    "\n",
    "# Creating a Series\n",
    "ages = pd.Series([25, 30, 35], name='Naresh')\n",
    "\n",
    "salaries = pd.Series([50000, 60000, 75000], name='Naresh')\n",
    "\n",
    "salaries"
   ]
  },
  {
   "cell_type": "code",
   "execution_count": 10,
   "id": "bd35886d",
   "metadata": {},
   "outputs": [
    {
     "data": {
      "text/plain": [
       "0    25\n",
       "1    30\n",
       "2    35\n",
       "Name: Naresh, dtype: int64"
      ]
     },
     "execution_count": 10,
     "metadata": {},
     "output_type": "execute_result"
    }
   ],
   "source": [
    "ages"
   ]
  },
  {
   "cell_type": "code",
   "execution_count": null,
   "id": "132b4773",
   "metadata": {},
   "outputs": [],
   "source": [
    "'''Question-5'''"
   ]
  },
  {
   "cell_type": "code",
   "execution_count": 11,
   "id": "b830883e",
   "metadata": {},
   "outputs": [
    {
     "data": {
      "text/html": [
       "<div>\n",
       "<style scoped>\n",
       "    .dataframe tbody tr th:only-of-type {\n",
       "        vertical-align: middle;\n",
       "    }\n",
       "\n",
       "    .dataframe tbody tr th {\n",
       "        vertical-align: top;\n",
       "    }\n",
       "\n",
       "    .dataframe thead th {\n",
       "        text-align: right;\n",
       "    }\n",
       "</style>\n",
       "<table border=\"1\" class=\"dataframe\">\n",
       "  <thead>\n",
       "    <tr style=\"text-align: right;\">\n",
       "      <th></th>\n",
       "      <th>name</th>\n",
       "      <th>age</th>\n",
       "      <th>city</th>\n",
       "      <th>category</th>\n",
       "      <th>sales</th>\n",
       "      <th>date</th>\n",
       "    </tr>\n",
       "  </thead>\n",
       "  <tbody>\n",
       "    <tr>\n",
       "      <th>0</th>\n",
       "      <td>Naresh</td>\n",
       "      <td>20.0</td>\n",
       "      <td>Vizag</td>\n",
       "      <td>A</td>\n",
       "      <td>400</td>\n",
       "      <td>2021-12-01</td>\n",
       "    </tr>\n",
       "    <tr>\n",
       "      <th>1</th>\n",
       "      <td>Rajesh</td>\n",
       "      <td>17.0</td>\n",
       "      <td>Mumbai</td>\n",
       "      <td>B</td>\n",
       "      <td>200</td>\n",
       "      <td>2021-12-02</td>\n",
       "    </tr>\n",
       "    <tr>\n",
       "      <th>2</th>\n",
       "      <td>Lokesh</td>\n",
       "      <td>NaN</td>\n",
       "      <td>Hyderabad</td>\n",
       "      <td>A</td>\n",
       "      <td>250</td>\n",
       "      <td>2021-12-03</td>\n",
       "    </tr>\n",
       "    <tr>\n",
       "      <th>3</th>\n",
       "      <td>Sneha</td>\n",
       "      <td>21.0</td>\n",
       "      <td>None</td>\n",
       "      <td>B</td>\n",
       "      <td>150</td>\n",
       "      <td>2021-12-04</td>\n",
       "    </tr>\n",
       "    <tr>\n",
       "      <th>4</th>\n",
       "      <td>Devi</td>\n",
       "      <td>21.0</td>\n",
       "      <td>Tamil Nadu</td>\n",
       "      <td>A</td>\n",
       "      <td>450</td>\n",
       "      <td>2021-12-05</td>\n",
       "    </tr>\n",
       "  </tbody>\n",
       "</table>\n",
       "</div>"
      ],
      "text/plain": [
       "     name   age        city category  sales        date\n",
       "0  Naresh  20.0       Vizag        A    400  2021-12-01\n",
       "1  Rajesh  17.0      Mumbai        B    200  2021-12-02\n",
       "2  Lokesh   NaN   Hyderabad        A    250  2021-12-03\n",
       "3   Sneha  21.0        None        B    150  2021-12-04\n",
       "4    Devi  21.0  Tamil Nadu        A    450  2021-12-05"
      ]
     },
     "execution_count": 11,
     "metadata": {},
     "output_type": "execute_result"
    }
   ],
   "source": [
    "# create sample dataframe with missing values\n",
    "data5 = {'name': ['Naresh', 'Rajesh', 'Lokesh', 'Sneha', 'Devi'],\n",
    "        'age': [20, 17, None, 21, 21],\n",
    "        'city': ['Vizag', 'Mumbai', 'Hyderabad', None, 'Tamil Nadu'],\n",
    "        'category': ['A', 'B', 'A', 'B', 'A'],\n",
    "        'sales': [400, 200, 250, 150, 450],\n",
    "        'date': ['2021-12-01', '2021-12-02', '2021-12-03', '2021-12-04', '2021-12-05']}\n",
    "df5 = pd.DataFrame(data5)\n",
    "df5"
   ]
  },
  {
   "cell_type": "code",
   "execution_count": 12,
   "id": "b4ef59ed",
   "metadata": {},
   "outputs": [
    {
     "data": {
      "text/html": [
       "<div>\n",
       "<style scoped>\n",
       "    .dataframe tbody tr th:only-of-type {\n",
       "        vertical-align: middle;\n",
       "    }\n",
       "\n",
       "    .dataframe tbody tr th {\n",
       "        vertical-align: top;\n",
       "    }\n",
       "\n",
       "    .dataframe thead th {\n",
       "        text-align: right;\n",
       "    }\n",
       "</style>\n",
       "<table border=\"1\" class=\"dataframe\">\n",
       "  <thead>\n",
       "    <tr style=\"text-align: right;\">\n",
       "      <th></th>\n",
       "      <th>name</th>\n",
       "      <th>age</th>\n",
       "      <th>city</th>\n",
       "      <th>category</th>\n",
       "      <th>sales</th>\n",
       "      <th>date</th>\n",
       "    </tr>\n",
       "  </thead>\n",
       "  <tbody>\n",
       "    <tr>\n",
       "      <th>0</th>\n",
       "      <td>Naresh</td>\n",
       "      <td>20.0</td>\n",
       "      <td>Vizag</td>\n",
       "      <td>A</td>\n",
       "      <td>400</td>\n",
       "      <td>2021-12-01</td>\n",
       "    </tr>\n",
       "    <tr>\n",
       "      <th>1</th>\n",
       "      <td>Rajesh</td>\n",
       "      <td>17.0</td>\n",
       "      <td>Mumbai</td>\n",
       "      <td>B</td>\n",
       "      <td>200</td>\n",
       "      <td>2021-12-02</td>\n",
       "    </tr>\n",
       "    <tr>\n",
       "      <th>4</th>\n",
       "      <td>Devi</td>\n",
       "      <td>21.0</td>\n",
       "      <td>Tamil Nadu</td>\n",
       "      <td>A</td>\n",
       "      <td>450</td>\n",
       "      <td>2021-12-05</td>\n",
       "    </tr>\n",
       "  </tbody>\n",
       "</table>\n",
       "</div>"
      ],
      "text/plain": [
       "     name   age        city category  sales        date\n",
       "0  Naresh  20.0       Vizag        A    400  2021-12-01\n",
       "1  Rajesh  17.0      Mumbai        B    200  2021-12-02\n",
       "4    Devi  21.0  Tamil Nadu        A    450  2021-12-05"
      ]
     },
     "execution_count": 12,
     "metadata": {},
     "output_type": "execute_result"
    }
   ],
   "source": [
    "#dropna()\n",
    "dropped_df5 = df5.dropna(axis=0)\n",
    "dropped_df5"
   ]
  },
  {
   "cell_type": "code",
   "execution_count": 13,
   "id": "da8cf8b8",
   "metadata": {},
   "outputs": [
    {
     "data": {
      "text/html": [
       "<div>\n",
       "<style scoped>\n",
       "    .dataframe tbody tr th:only-of-type {\n",
       "        vertical-align: middle;\n",
       "    }\n",
       "\n",
       "    .dataframe tbody tr th {\n",
       "        vertical-align: top;\n",
       "    }\n",
       "\n",
       "    .dataframe thead th {\n",
       "        text-align: right;\n",
       "    }\n",
       "</style>\n",
       "<table border=\"1\" class=\"dataframe\">\n",
       "  <thead>\n",
       "    <tr style=\"text-align: right;\">\n",
       "      <th></th>\n",
       "      <th>name</th>\n",
       "      <th>age</th>\n",
       "      <th>city</th>\n",
       "      <th>category</th>\n",
       "      <th>sales</th>\n",
       "      <th>date</th>\n",
       "    </tr>\n",
       "  </thead>\n",
       "  <tbody>\n",
       "    <tr>\n",
       "      <th>0</th>\n",
       "      <td>Naresh</td>\n",
       "      <td>20.0</td>\n",
       "      <td>Vizag</td>\n",
       "      <td>A</td>\n",
       "      <td>400</td>\n",
       "      <td>2021-12-01</td>\n",
       "    </tr>\n",
       "    <tr>\n",
       "      <th>1</th>\n",
       "      <td>Rajesh</td>\n",
       "      <td>17.0</td>\n",
       "      <td>Mumbai</td>\n",
       "      <td>B</td>\n",
       "      <td>200</td>\n",
       "      <td>2021-12-02</td>\n",
       "    </tr>\n",
       "    <tr>\n",
       "      <th>2</th>\n",
       "      <td>Lokesh</td>\n",
       "      <td>0.0</td>\n",
       "      <td>Hyderabad</td>\n",
       "      <td>A</td>\n",
       "      <td>250</td>\n",
       "      <td>2021-12-03</td>\n",
       "    </tr>\n",
       "    <tr>\n",
       "      <th>3</th>\n",
       "      <td>Sneha</td>\n",
       "      <td>21.0</td>\n",
       "      <td>0</td>\n",
       "      <td>B</td>\n",
       "      <td>150</td>\n",
       "      <td>2021-12-04</td>\n",
       "    </tr>\n",
       "    <tr>\n",
       "      <th>4</th>\n",
       "      <td>Devi</td>\n",
       "      <td>21.0</td>\n",
       "      <td>Tamil Nadu</td>\n",
       "      <td>A</td>\n",
       "      <td>450</td>\n",
       "      <td>2021-12-05</td>\n",
       "    </tr>\n",
       "  </tbody>\n",
       "</table>\n",
       "</div>"
      ],
      "text/plain": [
       "     name   age        city category  sales        date\n",
       "0  Naresh  20.0       Vizag        A    400  2021-12-01\n",
       "1  Rajesh  17.0      Mumbai        B    200  2021-12-02\n",
       "2  Lokesh   0.0   Hyderabad        A    250  2021-12-03\n",
       "3   Sneha  21.0           0        B    150  2021-12-04\n",
       "4    Devi  21.0  Tamil Nadu        A    450  2021-12-05"
      ]
     },
     "execution_count": 13,
     "metadata": {},
     "output_type": "execute_result"
    }
   ],
   "source": [
    "#fillna()\n",
    "filled_df5 = df5.fillna(0)\n",
    "filled_df5"
   ]
  },
  {
   "cell_type": "code",
   "execution_count": 14,
   "id": "cefdec54",
   "metadata": {},
   "outputs": [
    {
     "data": {
      "text/html": [
       "<div>\n",
       "<style scoped>\n",
       "    .dataframe tbody tr th:only-of-type {\n",
       "        vertical-align: middle;\n",
       "    }\n",
       "\n",
       "    .dataframe tbody tr th {\n",
       "        vertical-align: top;\n",
       "    }\n",
       "\n",
       "    .dataframe thead th {\n",
       "        text-align: right;\n",
       "    }\n",
       "</style>\n",
       "<table border=\"1\" class=\"dataframe\">\n",
       "  <thead>\n",
       "    <tr style=\"text-align: right;\">\n",
       "      <th></th>\n",
       "      <th>age</th>\n",
       "      <th>sales</th>\n",
       "    </tr>\n",
       "    <tr>\n",
       "      <th>category</th>\n",
       "      <th></th>\n",
       "      <th></th>\n",
       "    </tr>\n",
       "  </thead>\n",
       "  <tbody>\n",
       "    <tr>\n",
       "      <th>A</th>\n",
       "      <td>20.5</td>\n",
       "      <td>366.666667</td>\n",
       "    </tr>\n",
       "    <tr>\n",
       "      <th>B</th>\n",
       "      <td>19.0</td>\n",
       "      <td>175.000000</td>\n",
       "    </tr>\n",
       "  </tbody>\n",
       "</table>\n",
       "</div>"
      ],
      "text/plain": [
       "           age       sales\n",
       "category                  \n",
       "A         20.5  366.666667\n",
       "B         19.0  175.000000"
      ]
     },
     "execution_count": 14,
     "metadata": {},
     "output_type": "execute_result"
    }
   ],
   "source": [
    "#groupby()\n",
    "sales_mean = df5.groupby('category').mean(numeric_only=True)\n",
    "sales_mean"
   ]
  },
  {
   "cell_type": "code",
   "execution_count": 15,
   "id": "99584439",
   "metadata": {},
   "outputs": [
    {
     "data": {
      "text/html": [
       "<div>\n",
       "<style scoped>\n",
       "    .dataframe tbody tr th:only-of-type {\n",
       "        vertical-align: middle;\n",
       "    }\n",
       "\n",
       "    .dataframe tbody tr th {\n",
       "        vertical-align: top;\n",
       "    }\n",
       "\n",
       "    .dataframe thead th {\n",
       "        text-align: right;\n",
       "    }\n",
       "</style>\n",
       "<table border=\"1\" class=\"dataframe\">\n",
       "  <thead>\n",
       "    <tr style=\"text-align: right;\">\n",
       "      <th></th>\n",
       "      <th>name</th>\n",
       "      <th>age</th>\n",
       "      <th>city</th>\n",
       "      <th>category</th>\n",
       "      <th>sales</th>\n",
       "      <th>date</th>\n",
       "    </tr>\n",
       "  </thead>\n",
       "  <tbody>\n",
       "    <tr>\n",
       "      <th>4</th>\n",
       "      <td>Devi</td>\n",
       "      <td>21.0</td>\n",
       "      <td>Tamil Nadu</td>\n",
       "      <td>A</td>\n",
       "      <td>450</td>\n",
       "      <td>2021-12-05</td>\n",
       "    </tr>\n",
       "    <tr>\n",
       "      <th>0</th>\n",
       "      <td>Naresh</td>\n",
       "      <td>20.0</td>\n",
       "      <td>Vizag</td>\n",
       "      <td>A</td>\n",
       "      <td>400</td>\n",
       "      <td>2021-12-01</td>\n",
       "    </tr>\n",
       "    <tr>\n",
       "      <th>2</th>\n",
       "      <td>Lokesh</td>\n",
       "      <td>NaN</td>\n",
       "      <td>Hyderabad</td>\n",
       "      <td>A</td>\n",
       "      <td>250</td>\n",
       "      <td>2021-12-03</td>\n",
       "    </tr>\n",
       "    <tr>\n",
       "      <th>1</th>\n",
       "      <td>Rajesh</td>\n",
       "      <td>17.0</td>\n",
       "      <td>Mumbai</td>\n",
       "      <td>B</td>\n",
       "      <td>200</td>\n",
       "      <td>2021-12-02</td>\n",
       "    </tr>\n",
       "    <tr>\n",
       "      <th>3</th>\n",
       "      <td>Sneha</td>\n",
       "      <td>21.0</td>\n",
       "      <td>None</td>\n",
       "      <td>B</td>\n",
       "      <td>150</td>\n",
       "      <td>2021-12-04</td>\n",
       "    </tr>\n",
       "  </tbody>\n",
       "</table>\n",
       "</div>"
      ],
      "text/plain": [
       "     name   age        city category  sales        date\n",
       "4    Devi  21.0  Tamil Nadu        A    450  2021-12-05\n",
       "0  Naresh  20.0       Vizag        A    400  2021-12-01\n",
       "2  Lokesh   NaN   Hyderabad        A    250  2021-12-03\n",
       "1  Rajesh  17.0      Mumbai        B    200  2021-12-02\n",
       "3   Sneha  21.0        None        B    150  2021-12-04"
      ]
     },
     "execution_count": 15,
     "metadata": {},
     "output_type": "execute_result"
    }
   ],
   "source": [
    "# Sorting by Sales in descending order\n",
    "df5.sort_values(by='sales',ascending=False)"
   ]
  },
  {
   "cell_type": "code",
   "execution_count": null,
   "id": "00db2bd0",
   "metadata": {},
   "outputs": [],
   "source": [
    "'''Question-6'''"
   ]
  },
  {
   "cell_type": "code",
   "execution_count": null,
   "id": "f9c7b106",
   "metadata": {},
   "outputs": [],
   "source": [
    "'''In Pandas, both Series and DataFrame are mutable because they are designed to allow modifications to their content. \n",
    "This mutability is a key feature that makes these data structures flexible and powerful for data manipulation tasks. \n",
    "Here are a few reasons why mutability is beneficial:\n",
    "    1.Data Manipulation\n",
    "    2.Efficiency\n",
    "    3.Convenience\n",
    "    4.Interactivity'''\n",
    "\n",
    "'''Pandas Panel is considered immutable because the developers have decided to deprecate it, indicating that it's no longer recommended for use. \n",
    "The Panel data structure was designed to handle three-dimensional data, but it had limitations and was less consistent with the rest of the Pandas library.\n",
    "As a result, the developers introduced alternatives, such as using MultiIndex DataFrames or the xarray library, which provide more flexibility and consistency.''"
   ]
  },
  {
   "cell_type": "code",
   "execution_count": null,
   "id": "5be15a72",
   "metadata": {},
   "outputs": [],
   "source": [
    "'''Question-7'''"
   ]
  },
  {
   "cell_type": "code",
   "execution_count": 17,
   "id": "814f0ed5",
   "metadata": {},
   "outputs": [
    {
     "data": {
      "text/html": [
       "<div>\n",
       "<style scoped>\n",
       "    .dataframe tbody tr th:only-of-type {\n",
       "        vertical-align: middle;\n",
       "    }\n",
       "\n",
       "    .dataframe tbody tr th {\n",
       "        vertical-align: top;\n",
       "    }\n",
       "\n",
       "    .dataframe thead th {\n",
       "        text-align: right;\n",
       "    }\n",
       "</style>\n",
       "<table border=\"1\" class=\"dataframe\">\n",
       "  <thead>\n",
       "    <tr style=\"text-align: right;\">\n",
       "      <th></th>\n",
       "      <th>course</th>\n",
       "      <th>fees</th>\n",
       "      <th>discount</th>\n",
       "    </tr>\n",
       "  </thead>\n",
       "  <tbody>\n",
       "    <tr>\n",
       "      <th>0</th>\n",
       "      <td>Full Stack Web Development</td>\n",
       "      <td>10000</td>\n",
       "      <td>2500</td>\n",
       "    </tr>\n",
       "    <tr>\n",
       "      <th>1</th>\n",
       "      <td>Machine Learning</td>\n",
       "      <td>9500</td>\n",
       "      <td>1500</td>\n",
       "    </tr>\n",
       "    <tr>\n",
       "      <th>2</th>\n",
       "      <td>Cloud Computing</td>\n",
       "      <td>9000</td>\n",
       "      <td>3500</td>\n",
       "    </tr>\n",
       "  </tbody>\n",
       "</table>\n",
       "</div>"
      ],
      "text/plain": [
       "                       course   fees  discount\n",
       "0  Full Stack Web Development  10000      2500\n",
       "1            Machine Learning   9500      1500\n",
       "2             Cloud Computing   9000      3500"
      ]
     },
     "execution_count": 17,
     "metadata": {},
     "output_type": "execute_result"
    }
   ],
   "source": [
    "import pandas as pd\n",
    "# Create pandas Series\n",
    "courses = pd.Series([\"Full Stack Web Development\",\"Machine Learning\",\"Cloud Computing\"])\n",
    "fees = pd.Series([10000,9500,9000])\n",
    "discount  = pd.Series([2500,1500,3500])\n",
    "\n",
    "# concat() supports to combine multiple series.\n",
    "df7=pd.concat([courses,fees,discount],axis=1)\n",
    "df7.columns = ['course','fees','discount']\n",
    "df7"
   ]
  },
  {
   "cell_type": "code",
   "execution_count": null,
   "id": "4ffab566",
   "metadata": {},
   "outputs": [],
   "source": []
  }
 ],
 "metadata": {
  "kernelspec": {
   "display_name": "Python 3 (ipykernel)",
   "language": "python",
   "name": "python3"
  },
  "language_info": {
   "codemirror_mode": {
    "name": "ipython",
    "version": 3
   },
   "file_extension": ".py",
   "mimetype": "text/x-python",
   "name": "python",
   "nbconvert_exporter": "python",
   "pygments_lexer": "ipython3",
   "version": "3.11.5"
  }
 },
 "nbformat": 4,
 "nbformat_minor": 5
}
