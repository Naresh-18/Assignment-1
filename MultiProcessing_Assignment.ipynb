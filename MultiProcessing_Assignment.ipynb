{
 "cells": [
  {
   "cell_type": "code",
   "execution_count": null,
   "id": "a943fe2b-f9bb-4517-bf50-90b8b4a7a3eb",
   "metadata": {},
   "outputs": [],
   "source": [
    "''' Question 1 '''"
   ]
  },
  {
   "cell_type": "code",
   "execution_count": null,
   "id": "ee321302-3c36-421d-b9c3-5841fed55899",
   "metadata": {},
   "outputs": [],
   "source": [
    "Multiprocessing in Python:\n",
    "\n",
    " -> Multiprocessing is a technique in Python that involves creating multiple processes, each with its own Python interpreter and memory space, to perform tasks concurrently.\n",
    " -> Multiprocessing is useful for taking advantage of multi-core processors and performing CPU-bound tasks in parallel, improving performance for tasks that can be divided into smaller, independent units of work."
   ]
  },
  {
   "cell_type": "code",
   "execution_count": null,
   "id": "e63d2e2d-a4ea-4632-b66f-6e20c4971927",
   "metadata": {},
   "outputs": [],
   "source": [
    "''' Question 2 '''"
   ]
  },
  {
   "cell_type": "code",
   "execution_count": null,
   "id": "23bb7911-7bc2-42f7-b63f-e7723a5b541a",
   "metadata": {},
   "outputs": [],
   "source": [
    "Multiprocessing:\n",
    "\n",
    "  * Execution Units: Multiprocessing involves creating multiple processes, each with its own Python interpreter and memory space. These processes run independently.\n",
    "\n",
    "  * Parallelism: It is well-suited for CPU-bound tasks where parallel processing can significantly improve performance.\n",
    "\n",
    "  * Global Interpreter Lock (GIL): Multiprocessing does not suffer from the Global Interpreter Lock (GIL) limitation, allowing true parallel execution of tasks on multi-core processors.\n",
    "\n",
    "  * Isolation: High isolation is achieved as each process operates in a separate memory space, reducing the risk of memory-related issues.\n",
    "\n",
    "  * Communication: Inter-process communication (IPC) mechanisms like pipes, queues, and shared memory are required for communication between processes, which can be more complex.\n",
    "\n",
    "  * Overhead: Creating and managing multiple processes involves higher memory and process creation overhead.\n",
    "\n",
    "Multithreading:\n",
    "\n",
    "  * Execution Units: Multithreading involves creating multiple threads within a single process. Threads share the same Python interpreter and memory space.\n",
    "\n",
    "  * Parallelism: It is suitable for I/O-bound tasks where concurrent I/O operations can be performed without blocking the main thread.\n",
    "\n",
    "  * Global Interpreter Lock (GIL): Multithreading is constrained by the Global Interpreter Lock (GIL), limiting the degree of parallelism and preventing true parallel execution of CPU-bound tasks.\n",
    "\n",
    "  * Isolation: Threads within the same process share memory space, which can lead to potential data sharing and synchronization issues.\n",
    "\n",
    "  * Communication: Communication between threads within the same process is generally easier, as they can access shared data structures directly.\n",
    "\n",
    "  * Overhead: Creating and managing multiple threads involves lower memory and thread creation overhead compared to processes."
   ]
  },
  {
   "cell_type": "code",
   "execution_count": null,
   "id": "007a6ba8-1287-4855-8d8c-373ccb60c7db",
   "metadata": {},
   "outputs": [],
   "source": [
    "''' Question 3'''"
   ]
  },
  {
   "cell_type": "code",
   "execution_count": 1,
   "id": "894a379b-8b54-4cc0-b113-8d2dd6740f83",
   "metadata": {},
   "outputs": [
    {
     "name": "stdout",
     "output_type": "stream",
     "text": [
      "Worker process\n"
     ]
    }
   ],
   "source": [
    "import multiprocessing\n",
    "\n",
    "def worker_function():\n",
    "    print(\"Worker process\")\n",
    "\n",
    "if __name__ == \"__main__\":\n",
    "    process = multiprocessing.Process(target=worker_function)\n",
    "    process.start()\n",
    "    process.join()"
   ]
  },
  {
   "cell_type": "code",
   "execution_count": null,
   "id": "d5fbb50a-2e00-4b26-9f96-89878e67f011",
   "metadata": {},
   "outputs": [],
   "source": [
    "''' Question 4 '''"
   ]
  },
  {
   "cell_type": "code",
   "execution_count": null,
   "id": "d18a3096-8f28-4015-aad7-5dcab4ed8236",
   "metadata": {},
   "outputs": [],
   "source": [
    "Multiprocessing Pool in Python:\n",
    "\n",
    "  * A multiprocessing pool is a high-level abstraction provided by the multiprocessing module for managing a pool of worker processes.\n",
    "  * It simplifies the process of creating and managing multiple worker processes for parallel execution of tasks.\n",
    "  * It's particularly useful when you have a large number of tasks to perform concurrently, and you want to distribute them among available processes efficiently."
   ]
  },
  {
   "cell_type": "code",
   "execution_count": null,
   "id": "2aa31bd1-b79a-47b6-85a8-ae4b682e3347",
   "metadata": {},
   "outputs": [],
   "source": [
    "''' Question 5 '''"
   ]
  },
  {
   "cell_type": "code",
   "execution_count": 2,
   "id": "58f1a2fb-6653-4487-b835-418227a14c42",
   "metadata": {},
   "outputs": [
    {
     "name": "stdout",
     "output_type": "stream",
     "text": [
      "Process 1 prints a number: 1Process 3 prints a number: 3Process 2 prints a number: 2Process 4 prints a number: 4\n",
      "\n",
      "\n",
      "\n"
     ]
    }
   ],
   "source": [
    "import multiprocessing\n",
    "\n",
    "def worker_function(number):\n",
    "    print(f\"Process {number} prints a number: {number}\")\n",
    "\n",
    "if __name__ == \"__main__\":\n",
    "    with multiprocessing.Pool(processes=4) as pool:\n",
    "        numbers = [1, 2, 3, 4]\n",
    "        pool.map(worker_function, numbers)"
   ]
  },
  {
   "cell_type": "code",
   "execution_count": null,
   "id": "ca033b7b-742a-4a4d-a4b8-146b5987d5d8",
   "metadata": {},
   "outputs": [],
   "source": [
    "''' Question 6 '''"
   ]
  },
  {
   "cell_type": "code",
   "execution_count": 3,
   "id": "d49d45a9-990d-48f0-9330-3b0d019c0ea8",
   "metadata": {},
   "outputs": [
    {
     "name": "stdout",
     "output_type": "stream",
     "text": [
      "Process 1 prints: 1\n",
      "Process 2 prints: 2\n",
      "Process 3 prints: 3\n",
      "Process 4 prints: 4\n"
     ]
    }
   ],
   "source": [
    "import multiprocessing\n",
    "\n",
    "def print_number(number):\n",
    "    print(f\"Process {number} prints: {number}\")\n",
    "\n",
    "if __name__ == \"__main__\":\n",
    "    processes = []\n",
    "    for i in range(1, 5):\n",
    "        process = multiprocessing.Process(target=print_number, args=(i,))\n",
    "        processes.append(process)\n",
    "        process.start()\n",
    "\n",
    "    for process in processes:\n",
    "        process.join()"
   ]
  },
  {
   "cell_type": "code",
   "execution_count": null,
   "id": "04920ab3-d41c-41b2-9c4e-f6a194b07b01",
   "metadata": {},
   "outputs": [],
   "source": []
  }
 ],
 "metadata": {
  "kernelspec": {
   "display_name": "Python 3 (ipykernel)",
   "language": "python",
   "name": "python3"
  },
  "language_info": {
   "codemirror_mode": {
    "name": "ipython",
    "version": 3
   },
   "file_extension": ".py",
   "mimetype": "text/x-python",
   "name": "python",
   "nbconvert_exporter": "python",
   "pygments_lexer": "ipython3",
   "version": "3.10.8"
  }
 },
 "nbformat": 4,
 "nbformat_minor": 5
}
